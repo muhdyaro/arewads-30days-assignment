{
 "cells": [
  {
   "cell_type": "markdown",
   "metadata": {},
   "source": [
    "# Exercises Day 9."
   ]
  },
  {
   "cell_type": "markdown",
   "metadata": {},
   "source": [
    "## Exercises level 1."
   ]
  },
  {
   "cell_type": "markdown",
   "metadata": {},
   "source": [
    "## 1."
   ]
  },
  {
   "cell_type": "code",
   "execution_count": 16,
   "metadata": {},
   "outputs": [
    {
     "name": "stdout",
     "output_type": "stream",
     "text": [
      "You are old enough to learn to drive\n"
     ]
    }
   ],
   "source": [
    "age = 18\n",
    "\n",
    "if age >= 18:\n",
    "    print(\"You are old enough to learn to drive\")\n",
    "else:\n",
    "    print(\" You need more years to learn to drive.\")\n",
    "    \n",
    "    print(age)\n",
    " "
   ]
  },
  {
   "cell_type": "markdown",
   "metadata": {},
   "source": [
    "## 2."
   ]
  },
  {
   "cell_type": "code",
   "execution_count": 29,
   "metadata": {},
   "outputs": [
    {
     "name": "stdout",
     "output_type": "stream",
     "text": [
      "I am older than you by 8 year.\n"
     ]
    }
   ],
   "source": [
    "my_age = 30\n",
    "your_age = 22\n",
    "\n",
    "if my_age > your_age:\n",
    "    age_diffrence = my_age - your_age\n",
    "    if age_diffrence == 1:\n",
    "        print(\"I am older than you by 1 year.\")\n",
    "    else:\n",
    "        print(\"I am older than you by\", age_diffrence, \"year.\")\n",
    "        \n",
    "    elif: my_age < your_age:\n",
    "        age_diffrence = your_age - my_age\n",
    "    if age_diffrence == 1:\n",
    "        print(\"You are older than me by 1\")\n",
    "    else:\n",
    "        print(\"You are older than me by\", age_diffrence \"year\")\n",
    "    else:\n",
    "        print(\"We are thesame age!\")    \n"
   ]
  },
  {
   "cell_type": "markdown",
   "metadata": {},
   "source": [
    "## 3."
   ]
  },
  {
   "cell_type": "code",
   "execution_count": 35,
   "metadata": {},
   "outputs": [
    {
     "ename": "IndentationError",
     "evalue": "expected an indented block after 'elif' statement on line 6 (1972260222.py, line 7)",
     "output_type": "error",
     "traceback": [
      "\u001b[1;36m  Cell \u001b[1;32mIn[35], line 7\u001b[1;36m\u001b[0m\n\u001b[1;33m    print(f\"{a} is smaller than {b}\")\u001b[0m\n\u001b[1;37m    ^\u001b[0m\n\u001b[1;31mIndentationError\u001b[0m\u001b[1;31m:\u001b[0m expected an indented block after 'elif' statement on line 6\n"
     ]
    }
   ],
   "source": [
    "a = float(input(4))\n",
    "b = float(input(3))\n",
    "\n",
    "if a > b:\n",
    "  print(f\"{a} is greater {b}\")\n",
    "elif a < b:\n",
    "print(f\"{a} is smaller than {b}\")\n",
    "else:\n",
    "    print(f\"{a} is equal to {b}\")\n"
   ]
  },
  {
   "cell_type": "markdown",
   "metadata": {},
   "source": [
    "# Exercises level 2."
   ]
  },
  {
   "cell_type": "markdown",
   "metadata": {},
   "source": [
    "## 1."
   ]
  },
  {
   "cell_type": "code",
   "execution_count": 43,
   "metadata": {},
   "outputs": [],
   "source": [
    "def get_grade(score): \n",
    "    if 80 <= score <= 100:\n",
    "        return 'A'\n",
    "    elif 70 <= score <= 89:\n",
    "        return 'B'\n",
    "    elif 60 <= score <= 69:\n",
    "        return 'C'\n",
    "    elif 50 <= score <= 59:\n",
    "        return 'D'\n",
    "    elif 0 <= score <= 49:\n",
    "        return 'F'\n",
    "    else:\n",
    "        return 'Invalid score'\n",
    "\n",
    " student_score = float(input())\n",
    "grade = get_grade(student_score)\n",
    "print(f\"The student's grade is: {grade}\")"
   ]
  },
  {
   "cell_type": "markdown",
   "metadata": {},
   "source": [
    "## 1."
   ]
  },
  {
   "cell_type": "code",
   "execution_count": 4,
   "metadata": {},
   "outputs": [],
   "source": [
    "def get_season(month):\n",
    "    if month.lower() in ['september', 'october', 'november']:\n",
    "        return 'Autumn'\n",
    "    elif month.lower() in ['december', 'january', 'february']:\n",
    "        return 'Winter'\n",
    "    elif month.lower() in ['march', 'april', 'may']:\n",
    "        return 'Spring'\n",
    "    elif month.lower() in ['june', 'july', 'august']:\n",
    "        return 'Summer'\n",
    "    else:\n",
    "        return 'Invalid month'\n",
    "\n",
    "\n",
    "user_input = input(\"Enter the month: \")\n",
    "season = get_season(user_input)\n",
    "print(f\"The season is: {season}\")"
   ]
  },
  {
   "cell_type": "markdown",
   "metadata": {},
   "source": [
    "## 2."
   ]
  },
  {
   "cell_type": "code",
   "execution_count": 2,
   "metadata": {},
   "outputs": [],
   "source": [
    "fruits = ['banana', 'orange', 'mango', 'lemon']\n",
    "\n",
    "def add_fruit_to_list(fruit):\n",
    "    if fruit.lower() not in [f.lower() for f in fruits]:\n",
    "        fruits.append(fruit.lower())\n",
    "        print(f\"{fruit.capitalize()} has been added to the list.\")\n",
    "    else:\n",
    "        print(f\"That fruit already exists in the list.\")\n",
    "\n",
    "# Example usage:\n",
    "user_input = input(\"Enter a fruit: \")\n",
    "add_fruit_to_list(user_input)\n",
    "\n",
    "# Print the modified list\n",
    "print(\"Modified list:\", fruits)"
   ]
  },
  {
   "cell_type": "markdown",
   "metadata": {},
   "source": [
    " ### Exercises: Level 3"
   ]
  },
  {
   "cell_type": "code",
   "execution_count": 3,
   "metadata": {},
   "outputs": [
    {
     "ename": "SyntaxError",
     "evalue": "unterminated string literal (detected at line 41) (1693317445.py, line 41)",
     "output_type": "error",
     "traceback": [
      "\u001b[1;36m  Cell \u001b[1;32mIn[3], line 41\u001b[1;36m\u001b[0m\n\u001b[1;33m    print(f\"{person['first_name')]} {person['last_name']} lives in {person['country']}. He is married\u001b[0m\n\u001b[1;37m          ^\u001b[0m\n\u001b[1;31mSyntaxError\u001b[0m\u001b[1;31m:\u001b[0m unterminated string literal (detected at line 41)\n"
     ]
    }
   ],
   "source": [
    "person = {\n",
    "    'first_name': 'Muhammad',\n",
    "    'last_name': 'Yaro',\n",
    "    'age': 23,\n",
    "    'country': 'Nigeria',\n",
    "    'is_married': False,\n",
    "    'skills': ['JavaScript', 'React', 'Node', 'MongoDB', 'Python'],\n",
    "    'address': {\n",
    "        'street': 'Janruwa',\n",
    "        'zipcode': '077101'\n",
    "    }\n",
    "}\n",
    "\n",
    "# Check if the person dictionary has 'skills' key\n",
    "if 'skills' in person:\n",
    "    skills = person['skills']\n",
    "\n",
    "    # Print out the middle skill in the skills list\n",
    "    if len(skills) % 2 == 1:\n",
    "        middle_skill = skills[len(skills) // 2]\n",
    "        print(f\"The middle skill is: {middle_skill}\")\n",
    "\n",
    "    # Check if the person has 'Python' skill\n",
    "    if 'Python' in skills:\n",
    "        print(\"The person has 'Python' skill.\")\n",
    "    else:\n",
    "        print(\"The person does not have 'Python' skill.\")\n",
    "\n",
    "    # Check the person's development title based on skills\n",
    "    if skills == ['JavaScript', 'React']:\n",
    "        print(\"He is a front end developer\")\n",
    "    elif set(['Node', 'Python', 'MongoDB']).issubset(set(skills)):\n",
    "        print(\"He is a backend developer\")\n",
    "    elif set(['React', 'Node', 'MongoDB']).issubset(set(skills)):\n",
    "        print(\"He is a fullstack developer\")\n",
    "    else:\n",
    "        print(\"Unknown title\")\n",
    "\n",
    "# If the person is married and lives in Nigeria, print information\n",
    "if person.get('is_married') and person.get('country') == 'Nigeria':\n",
    "    print(f\"{person['first_name']} {person['last_name']} lives in {person['country']}. He is married"
   ]
  }
 ],
 "metadata": {
  "kernelspec": {
   "display_name": "Python 3",
   "language": "python",
   "name": "python3"
  },
  "language_info": {
   "codemirror_mode": {
    "name": "ipython",
    "version": 3
   },
   "file_extension": ".py",
   "mimetype": "text/x-python",
   "name": "python",
   "nbconvert_exporter": "python",
   "pygments_lexer": "ipython3",
   "version": "3.10.8"
  }
 },
 "nbformat": 4,
 "nbformat_minor": 2
}
