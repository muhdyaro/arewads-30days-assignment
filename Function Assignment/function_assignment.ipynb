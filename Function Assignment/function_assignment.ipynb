{
 "cells": [
  {
   "cell_type": "markdown",
   "metadata": {},
   "source": [
    "### 8.1 Messages"
   ]
  },
  {
   "cell_type": "code",
   "execution_count": 1,
   "metadata": {},
   "outputs": [
    {
     "name": "stdout",
     "output_type": "stream",
     "text": [
      "In this chapter, we are learning about Python functions and how to call them.\n"
     ]
    }
   ],
   "source": [
    "def display_message():\n",
    "    print(\"In this chapter, we are learning about Python functions and how to call them.\")\n",
    "\n",
    "# Call the function to display the message\n",
    "display_message()\n"
   ]
  },
  {
   "cell_type": "markdown",
   "metadata": {},
   "source": [
    "### 8.2 Favorite book"
   ]
  },
  {
   "cell_type": "code",
   "execution_count": 2,
   "metadata": {},
   "outputs": [
    {
     "name": "stdout",
     "output_type": "stream",
     "text": [
      "One of my favorite books is Alice in Wonderland.\n"
     ]
    }
   ],
   "source": [
    "def favorite_book(title):\n",
    "    print(\"One of my favorite books is \" + title + \".\")\n",
    "\n",
    "# Call the function with a specific book title\n",
    "favorite_book(\"Alice in Wonderland\")\n"
   ]
  },
  {
   "cell_type": "markdown",
   "metadata": {},
   "source": [
    "### 8.3 T-shirt"
   ]
  },
  {
   "cell_type": "code",
   "execution_count": 3,
   "metadata": {},
   "outputs": [
    {
     "name": "stdout",
     "output_type": "stream",
     "text": [
      "The shirt is size Medium and it has the message: 'Hello World!'.\n",
      "The shirt is size Large and it has the message: 'Python Rocks!'.\n"
     ]
    }
   ],
   "source": [
    "def make_shirt(size, message):\n",
    "    print(\"The shirt is size \" + size + \" and it has the message: '\" + message + \"'.\")\n",
    "\n",
    "# Call the function using positional arguments\n",
    "make_shirt(\"Medium\", \"Hello World!\")\n",
    "\n",
    "# Call the function using keyword arguments\n",
    "make_shirt(size=\"Large\", message=\"Python Rocks!\")\n"
   ]
  },
  {
   "cell_type": "markdown",
   "metadata": {},
   "source": [
    "### 8.4 Large Shirt"
   ]
  },
  {
   "cell_type": "code",
   "execution_count": 4,
   "metadata": {},
   "outputs": [
    {
     "name": "stdout",
     "output_type": "stream",
     "text": [
      "The shirt is size Large and it has the message: 'I love Python'.\n",
      "The shirt is size Medium and it has the message: 'I love Python'.\n",
      "The shirt is size Small and it has the message: 'Keep Coding!'.\n"
     ]
    }
   ],
   "source": [
    "def make_shirt(size=\"Large\", message=\"I love Python\"):\n",
    "    print(\"The shirt is size \" + size + \" and it has the message: '\" + message + \"'.\")\n",
    "\n",
    "# Make a large shirt with the default message\n",
    "make_shirt()\n",
    "\n",
    "# Make a medium shirt with the default message\n",
    "make_shirt(size=\"Medium\")\n",
    "\n",
    "# Make a shirt of any size with a different message\n",
    "make_shirt(size=\"Small\", message=\"Keep Coding!\")\n"
   ]
  },
  {
   "cell_type": "markdown",
   "metadata": {},
   "source": [
    "### 8.5 Cities"
   ]
  },
  {
   "cell_type": "code",
   "execution_count": 5,
   "metadata": {},
   "outputs": [
    {
     "name": "stdout",
     "output_type": "stream",
     "text": [
      "Reykjavik is in Iceland.\n",
      "New York is in USA.\n",
      "Tokyo is in Default Country.\n"
     ]
    }
   ],
   "source": [
    "def describe_city(city, country=\"Default Country\"):\n",
    "    print(city + \" is in \" + country + \".\")\n",
    "\n",
    "# Call the function for three different cities\n",
    "describe_city(\"Reykjavik\", \"Iceland\")\n",
    "describe_city(\"New York\", \"USA\")\n",
    "describe_city(\"Tokyo\")  # This will use the default country\n"
   ]
  },
  {
   "cell_type": "markdown",
   "metadata": {},
   "source": [
    "### 8.6 City names"
   ]
  },
  {
   "cell_type": "code",
   "execution_count": 6,
   "metadata": {},
   "outputs": [
    {
     "name": "stdout",
     "output_type": "stream",
     "text": [
      "Santiago, Chile\n",
      "Tokyo, Japan\n",
      "Paris, France\n"
     ]
    }
   ],
   "source": [
    "def city_country(city, country):\n",
    "    return city + \", \" + country\n",
    "\n",
    "# Call the function with three city-country pairs and print the values\n",
    "pair1 = city_country(\"Santiago\", \"Chile\")\n",
    "pair2 = city_country(\"Tokyo\", \"Japan\")\n",
    "pair3 = city_country(\"Paris\", \"France\")\n",
    "\n",
    "print(pair1)\n",
    "print(pair2)\n",
    "print(pair3)\n"
   ]
  },
  {
   "cell_type": "markdown",
   "metadata": {},
   "source": [
    "### 8.7 Album"
   ]
  },
  {
   "cell_type": "code",
   "execution_count": 7,
   "metadata": {},
   "outputs": [
    {
     "name": "stdout",
     "output_type": "stream",
     "text": [
      "{'artist': 'Ed Sheeran', 'title': 'Divide'}\n",
      "{'artist': 'Beyoncé', 'title': 'Lemonade'}\n",
      "{'artist': 'Imagine Dragons', 'title': 'Evolve'}\n",
      "{'artist': 'Taylor Swift', 'title': '1989', 'songs': 16}\n"
     ]
    }
   ],
   "source": [
    "def make_album(artist, title, songs=None):\n",
    "    album = {\"artist\": artist, \"title\": title}\n",
    "    if songs is not None:\n",
    "        album[\"songs\"] = songs\n",
    "    return album\n",
    "\n",
    "# Make three dictionaries representing different albums\n",
    "album1 = make_album(\"Ed Sheeran\", \"Divide\")\n",
    "album2 = make_album(\"Beyoncé\", \"Lemonade\")\n",
    "album3 = make_album(\"Imagine Dragons\", \"Evolve\")\n",
    "\n",
    "# Print each return value to show that the dictionaries are storing the album information correctly\n",
    "print(album1)\n",
    "print(album2)\n",
    "print(album3)\n",
    "\n",
    "# Make a new function call that includes the number of songs on an album\n",
    "album4 = make_album(\"Taylor Swift\", \"1989\", songs=16)\n",
    "print(album4)\n"
   ]
  },
  {
   "cell_type": "markdown",
   "metadata": {},
   "source": [
    "### 8.8 User Albums"
   ]
  },
  {
   "cell_type": "code",
   "execution_count": 1,
   "metadata": {},
   "outputs": [],
   "source": [
    "def make_album(artist, title, songs=None):\n",
    "    album = {\"artist\": artist, \"title\": title}\n",
    "    if songs is not None:\n",
    "        album[\"songs\"] = songs\n",
    "    return album\n",
    "\n",
    "while True:\n",
    "    # Get user input for artist and title\n",
    "    artist_input = input(\"Enter the artist name (or 'quit' to exit): \")\n",
    "    \n",
    "    # Check if the user wants to quit\n",
    "    if artist_input.lower() == 'quit':\n",
    "        break\n",
    "\n",
    "    title_input = input(\"\")\n",
    "\n",
    "    # Get user input for the number of songs (optional)\n",
    "    songs_input = input(\"Enter the number of songs (press Enter if unknown): \")\n",
    "    if songs_input:\n",
    "        songs = int(songs_input)\n",
    "    else:\n",
    "        songs = None\n",
    "\n",
    "    # Call make_album() with user input and print the dictionary\n",
    "    album_info = make_album(artist_input, title_input, songs)\n",
    "    print(album_info)\n"
   ]
  },
  {
   "cell_type": "markdown",
   "metadata": {},
   "source": [
    "### 8.9 Messages"
   ]
  },
  {
   "cell_type": "code",
   "execution_count": 1,
   "metadata": {},
   "outputs": [
    {
     "name": "stdout",
     "output_type": "stream",
     "text": [
      "Hello, how are you?\n",
      "Just wanted to say hi!\n",
      "Don't forget about our meeting tomorrow.\n",
      "Have a great day!\n",
      "See you later!\n"
     ]
    }
   ],
   "source": [
    "def show_messages(messages):\n",
    "    for message in messages:\n",
    "        print(message)\n",
    "\n",
    "# List of short text messages\n",
    "text_messages = [\n",
    "    \"Hello, how are you?\",\n",
    "    \"Just wanted to say hi!\",\n",
    "    \"Don't forget about our meeting tomorrow.\",\n",
    "    \"Have a great day!\",\n",
    "    \"See you later!\"\n",
    "]\n",
    "\n",
    "# Call the function to show the messages\n",
    "show_messages(text_messages)\n"
   ]
  },
  {
   "cell_type": "markdown",
   "metadata": {},
   "source": [
    "### 8.10 Sending messasges"
   ]
  },
  {
   "cell_type": "code",
   "execution_count": 2,
   "metadata": {},
   "outputs": [
    {
     "name": "stdout",
     "output_type": "stream",
     "text": [
      "Sending message: Hello, how are you?\n",
      "Sending message: Just wanted to say hi!\n",
      "Sending message: Don't forget about our meeting tomorrow.\n",
      "Sending message: Have a great day!\n",
      "Sending message: See you later!\n",
      "Original messages:\n",
      "\n",
      "Sent messages:\n",
      "Hello, how are you?\n",
      "Just wanted to say hi!\n",
      "Don't forget about our meeting tomorrow.\n",
      "Have a great day!\n",
      "See you later!\n"
     ]
    }
   ],
   "source": [
    "def show_messages(messages):\n",
    "    for message in messages:\n",
    "        print(message)\n",
    "\n",
    "def send_messages(messages, sent_messages):\n",
    "    while messages:\n",
    "        current_message = messages.pop(0)\n",
    "        print(\"Sending message: \" + current_message)\n",
    "        sent_messages.append(current_message)\n",
    "\n",
    "# List of short text messages\n",
    "text_messages = [\n",
    "    \"Hello, how are you?\",\n",
    "    \"Just wanted to say hi!\",\n",
    "    \"Don't forget about our meeting tomorrow.\",\n",
    "    \"Have a great day!\",\n",
    "    \"See you later!\"\n",
    "]\n",
    "\n",
    "# Create an empty list to store sent messages\n",
    "sent_messages = []\n",
    "\n",
    "# Call the function to send messages and move them to the sent_messages list\n",
    "send_messages(text_messages, sent_messages)\n",
    "\n",
    "# Print both lists to make sure the messages were moved correctly\n",
    "print(\"Original messages:\")\n",
    "show_messages(text_messages)\n",
    "\n",
    "print(\"\\nSent messages:\")\n",
    "show_messages(sent_messages)\n"
   ]
  },
  {
   "cell_type": "markdown",
   "metadata": {},
   "source": [
    "### 8.11 archieved messages"
   ]
  },
  {
   "cell_type": "code",
   "execution_count": 3,
   "metadata": {},
   "outputs": [
    {
     "name": "stdout",
     "output_type": "stream",
     "text": [
      "Sending message: Hello, how are you?\n",
      "Sending message: Just wanted to say hi!\n",
      "Sending message: Don't forget about our meeting tomorrow.\n",
      "Sending message: Have a great day!\n",
      "Sending message: See you later!\n",
      "Original messages:\n",
      "Hello, how are you?\n",
      "Just wanted to say hi!\n",
      "Don't forget about our meeting tomorrow.\n",
      "Have a great day!\n",
      "See you later!\n",
      "\n",
      "Sent messages:\n",
      "Hello, how are you?\n",
      "Just wanted to say hi!\n",
      "Don't forget about our meeting tomorrow.\n",
      "Have a great day!\n",
      "See you later!\n"
     ]
    }
   ],
   "source": [
    "def show_messages(messages):\n",
    "    for message in messages:\n",
    "        print(message)\n",
    "\n",
    "def send_messages(messages, sent_messages):\n",
    "    while messages:\n",
    "        current_message = messages.pop(0)\n",
    "        print(\"Sending message: \" + current_message)\n",
    "        sent_messages.append(current_message)\n",
    "\n",
    "# List of short text messages\n",
    "text_messages = [\n",
    "    \"Hello, how are you?\",\n",
    "    \"Just wanted to say hi!\",\n",
    "    \"Don't forget about our meeting tomorrow.\",\n",
    "    \"Have a great day!\",\n",
    "    \"See you later!\"\n",
    "]\n",
    "\n",
    "# Create a copy of the list to pass to the function\n",
    "text_messages_copy = text_messages.copy()\n",
    "\n",
    "# Create an empty list to store sent messages\n",
    "sent_messages = []\n",
    "\n",
    "# Call the function to send messages and move them to the sent_messages list\n",
    "send_messages(text_messages_copy, sent_messages)\n",
    "\n",
    "# Print both lists to show that the original list has retained its messages\n",
    "print(\"Original messages:\")\n",
    "show_messages(text_messages)\n",
    "\n",
    "print(\"\\nSent messages:\")\n",
    "show_messages(sent_messages)\n"
   ]
  },
  {
   "cell_type": "markdown",
   "metadata": {},
   "source": [
    "### 8.12"
   ]
  },
  {
   "cell_type": "code",
   "execution_count": 5,
   "metadata": {},
   "outputs": [
    {
     "name": "stdout",
     "output_type": "stream",
     "text": [
      "Making a sandwich with the following items:\n",
      "- Ham\n",
      "- Cheese\n",
      "- Lettuce\n",
      "- Tomato\n",
      "\n",
      "\n",
      "Making a sandwich with the following items:\n",
      "- Turkey\n",
      "- Swiss\n",
      "- Mustard\n",
      "\n",
      "\n",
      "Making a sandwich with the following items:\n",
      "- Peanut Butter\n",
      "- Jelly\n"
     ]
    }
   ],
   "source": [
    "def make_sandwich(*items):\n",
    "    print(\"Making a sandwich with the following items:\")\n",
    "    for item in items:\n",
    "        print(\"- \" + item)\n",
    "\n",
    "# Call the function three times with a different number of arguments each time\n",
    "make_sandwich(\"Ham\", \"Cheese\", \"Lettuce\", \"Tomato\")\n",
    "print(\"\\n\")\n",
    "\n",
    "make_sandwich(\"Turkey\", \"Swiss\", \"Mustard\")\n",
    "print(\"\\n\")\n",
    "\n",
    "make_sandwich(\"Peanut Butter\", \"Jelly\")\n"
   ]
  },
  {
   "cell_type": "markdown",
   "metadata": {},
   "source": [
    "### 8.13"
   ]
  },
  {
   "cell_type": "code",
   "execution_count": 7,
   "metadata": {},
   "outputs": [
    {
     "name": "stdout",
     "output_type": "stream",
     "text": [
      "{'first_name': 'Muhammad', 'last_name': 'Yaro', 'age': 25, 'occupation': 'Software Engineer', 'hobbies': ['Reading', 'Coding', 'Traveling']}\n"
     ]
    }
   ],
   "source": [
    "def build_profile(first_name, last_name, **additional_info):\n",
    "    profile = {'first_name': first_name, 'last_name': last_name}\n",
    "    for key, value in additional_info.items():\n",
    "        profile[key] = value\n",
    "    return profile\n",
    "\n",
    "# Create a profile of yourself\n",
    "my_profile = build_profile(\n",
    "    first_name='Muhammad',\n",
    "    last_name='Yaro',\n",
    "    age=25,\n",
    "    occupation='Software Engineer',\n",
    "    hobbies=['Reading', 'Coding', 'Traveling']\n",
    ")\n",
    "\n",
    "# Print the profile\n",
    "print(my_profile)\n"
   ]
  },
  {
   "cell_type": "markdown",
   "metadata": {},
   "source": [
    "### 8.14"
   ]
  },
  {
   "cell_type": "code",
   "execution_count": 8,
   "metadata": {},
   "outputs": [
    {
     "name": "stdout",
     "output_type": "stream",
     "text": [
      "{'manufacturer': 'Subaru', 'model': 'Outback', 'color': 'blue', 'tow_package': True}\n"
     ]
    }
   ],
   "source": [
    "def make_car(manufacturer, model, **car_info):\n",
    "    car = {'manufacturer': manufacturer, 'model': model}\n",
    "    for key, value in car_info.items():\n",
    "        car[key] = value\n",
    "    return car\n",
    "\n",
    "# Call the function with required information and additional name-value pairs\n",
    "car = make_car('Subaru', 'Outback', color='blue', tow_package=True)\n",
    "\n",
    "# Print the dictionary to ensure all information was stored correctly\n",
    "print(car)\n"
   ]
  },
  {
   "cell_type": "markdown",
   "metadata": {},
   "source": [
    "### 8.15"
   ]
  },
  {
   "cell_type": "code",
   "execution_count": 11,
   "metadata": {},
   "outputs": [
    {
     "name": "stdout",
     "output_type": "stream",
     "text": [
      "Printing model: dodecahedron\n",
      "Printing model: robot pendant\n",
      "Printing model: iphone case\n",
      "\n",
      "The following models have been printed:\n",
      "dodecahedron\n",
      "robot pendant\n",
      "iphone case\n"
     ]
    }
   ],
   "source": [
    "# printing_models.py\n",
    "# Importing functions from printing_functions module\n",
    "from printing_functions import print_models, show_completed_models\n",
    "\n",
    "# Lists to store designs and completed models\n",
    "unprinted_designs = ['iphone case', 'robot pendant', 'dodecahedron']\n",
    "completed_models = []\n",
    "\n",
    "# Using imported functions\n",
    "print_models(unprinted_designs, completed_models)\n",
    "show_completed_models(completed_models)\n"
   ]
  },
  {
   "cell_type": "markdown",
   "metadata": {},
   "source": [
    "### 8.16"
   ]
  },
  {
   "cell_type": "code",
   "execution_count": 12,
   "metadata": {},
   "outputs": [
    {
     "name": "stdout",
     "output_type": "stream",
     "text": [
      "Result using import math_operations: 35\n",
      "Result using from math_operations import multiply_numbers: 30\n",
      "Result using from math_operations import multiply_numbers as multiply: 32\n",
      "Result using import math_operations as mo: 90\n",
      "Result using from math_operations import *: 40\n"
     ]
    }
   ],
   "source": [
    "# Import approach 1: import module_name\n",
    "import math_operations\n",
    "\n",
    "result1 = math_operations.multiply_numbers(5, 7)\n",
    "print(\"Result using import math_operations:\", result1)\n",
    "\n",
    "# Import approach 2: from module_name import function_name\n",
    "from math_operations import multiply_numbers\n",
    "\n",
    "result2 = multiply_numbers(10, 3)\n",
    "print(\"Result using from math_operations import multiply_numbers:\", result2)\n",
    "\n",
    "# Import approach 3: from module_name import function_name as fn\n",
    "from math_operations import multiply_numbers as multiply\n",
    "\n",
    "result3 = multiply(8, 4)\n",
    "print(\"Result using from math_operations import multiply_numbers as multiply:\", result3)\n",
    "\n",
    "# Import approach 4: import module_name as mn\n",
    "import math_operations as mo\n",
    "\n",
    "result4 = mo.multiply_numbers(15, 6)\n",
    "print(\"Result using import math_operations as mo:\", result4)\n",
    "\n",
    "# Import approach 5: from module_name import *\n",
    "from math_operations import *\n",
    "\n",
    "result5 = multiply_numbers(20, 2)\n",
    "print(\"Result using from math_operations import *:\", result5)\n"
   ]
  }
 ],
 "metadata": {
  "kernelspec": {
   "display_name": ".venv",
   "language": "python",
   "name": "python3"
  },
  "language_info": {
   "codemirror_mode": {
    "name": "ipython",
    "version": 3
   },
   "file_extension": ".py",
   "mimetype": "text/x-python",
   "name": "python",
   "nbconvert_exporter": "python",
   "pygments_lexer": "ipython3",
   "version": "3.10.8"
  }
 },
 "nbformat": 4,
 "nbformat_minor": 2
}
