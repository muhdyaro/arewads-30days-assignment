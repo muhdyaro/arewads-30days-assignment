{
 "cells": [
  {
   "cell_type": "markdown",
   "metadata": {},
   "source": [
    "# Exersices Day 6"
   ]
  },
  {
   "cell_type": "markdown",
   "metadata": {},
   "source": [
    "## Exersice 1"
   ]
  },
  {
   "cell_type": "markdown",
   "metadata": {},
   "source": [
    "# 1."
   ]
  },
  {
   "cell_type": "code",
   "execution_count": null,
   "metadata": {},
   "outputs": [],
   "source": [
    " empty_tuple = tuple()"
   ]
  },
  {
   "cell_type": "markdown",
   "metadata": {},
   "source": [
    "# 2."
   ]
  },
  {
   "cell_type": "code",
   "execution_count": 2,
   "metadata": {},
   "outputs": [
    {
     "name": "stdout",
     "output_type": "stream",
     "text": [
      "('Abdulhameed', 'Nabila', 'Khald', 'Ummukulsum', 'Sahla')\n"
     ]
    }
   ],
   "source": [
    "family_names = (\"Abdulhameed\", \"Nabila\", \"Khald\", \"Ummukulsum\", \"Sahla\")\n",
    "print(family_names)"
   ]
  },
  {
   "cell_type": "markdown",
   "metadata": {},
   "source": [
    "# 3."
   ]
  },
  {
   "cell_type": "code",
   "execution_count": 4,
   "metadata": {},
   "outputs": [
    {
     "name": "stdout",
     "output_type": "stream",
     "text": [
      "('Abdulhameed', 'Khaleed', 'Sule', 'Nabila', 'Ummukulsum', 'Sahla')\n"
     ]
    }
   ],
   "source": [
    "brothers = (\"Abdulhameed\", \"Khaleed\", \"Sule\")\n",
    "sisters = (\"Nabila\", \"Ummukulsum\", \"Sahla\")\n",
    "\n",
    "siblings = brothers + sisters\n",
    "print(siblings)"
   ]
  },
  {
   "cell_type": "markdown",
   "metadata": {},
   "source": [
    "# 4."
   ]
  },
  {
   "cell_type": "code",
   "execution_count": 5,
   "metadata": {},
   "outputs": [
    {
     "name": "stdout",
     "output_type": "stream",
     "text": [
      "6\n"
     ]
    }
   ],
   "source": [
    "number_of_siblings = len(siblings)\n",
    "print(number_of_siblings)"
   ]
  },
  {
   "cell_type": "markdown",
   "metadata": {},
   "source": [
    "# 5."
   ]
  },
  {
   "cell_type": "code",
   "execution_count": 7,
   "metadata": {},
   "outputs": [
    {
     "name": "stdout",
     "output_type": "stream",
     "text": [
      "('Baba', 'Momma', 'Abdulhameed', 'Khaleed', 'Sule', 'Nabila', 'Ummukulsum', 'Sahla')\n"
     ]
    }
   ],
   "source": [
    "father = (\"Baba\", )\n",
    "mother = (\"Momma\", )\n",
    "\n",
    "family = father + mother + brothers + sisters\n",
    "print(family)"
   ]
  },
  {
   "cell_type": "markdown",
   "metadata": {},
   "source": [
    "# Exersise level 2"
   ]
  },
  {
   "cell_type": "markdown",
   "metadata": {},
   "source": [
    "## 1."
   ]
  },
  {
   "cell_type": "code",
   "execution_count": 14,
   "metadata": {},
   "outputs": [
    {
     "name": "stdout",
     "output_type": "stream",
     "text": [
      "0\n"
     ]
    }
   ],
   "source": [
    "family_members = 0\n",
    "print(family_members)"
   ]
  },
  {
   "cell_type": "markdown",
   "metadata": {},
   "source": [
    "## 2."
   ]
  },
  {
   "cell_type": "code",
   "execution_count": 19,
   "metadata": {},
   "outputs": [
    {
     "name": "stdout",
     "output_type": "stream",
     "text": [
      "('orange', 'mango', 'apple', 'banana', 'watermelon', 'carrot', 'cabbage', 'cocumber', 'salad', 'beef', 'milk', 'cowleg', 'egg')\n"
     ]
    }
   ],
   "source": [
    "fruites = (\"orange\", \"mango\", \"apple\", \"banana\", \"watermelon\")\n",
    "vegetables = (\"carrot\", \"cabbage\", \"cocumber\", \"salad\")\n",
    "animal_products = (\"beef\", \"milk\", \"cowleg\", \"egg\")\n",
    "\n",
    "food_stuff_tp = fruites + vegetables + animal_products\n",
    "print(food_stuff_tp)\n",
    "\n",
    "#Converting to list\n",
    "\n",
    "\n"
   ]
  },
  {
   "cell_type": "markdown",
   "metadata": {},
   "source": [
    "# 3."
   ]
  },
  {
   "cell_type": "code",
   "execution_count": 18,
   "metadata": {},
   "outputs": [
    {
     "name": "stdout",
     "output_type": "stream",
     "text": [
      "['orange', 'mango', 'apple', 'banana', 'watermelon', 'carrot', 'cabbage', 'cocumber', 'salad', 'beef', 'milk', 'cowleg', 'egg']\n"
     ]
    }
   ],
   "source": [
    "lst = list(food_stuff_tp)\n",
    "print(lst)"
   ]
  },
  {
   "cell_type": "markdown",
   "metadata": {},
   "source": [
    "# 4."
   ]
  },
  {
   "cell_type": "code",
   "execution_count": 29,
   "metadata": {},
   "outputs": [
    {
     "name": "stdout",
     "output_type": "stream",
     "text": [
      "6\n"
     ]
    }
   ],
   "source": [
    "middle_index_tp = len(food_stuff_tp) // 2\n",
    "print(middle_index_tp)"
   ]
  },
  {
   "cell_type": "markdown",
   "metadata": {},
   "source": [
    "# 5."
   ]
  },
  {
   "cell_type": "code",
   "execution_count": 32,
   "metadata": {},
   "outputs": [
    {
     "name": "stdout",
     "output_type": "stream",
     "text": [
      "('orange', 'mango', 'apple', 'milk', 'cowleg', 'egg')\n"
     ]
    }
   ],
   "source": [
    "food_stuff_tp = fruites + vegetables + animal_products\n",
    "\n",
    "sliced_items = food_stuff_tp[:3] + food_stuff_tp[-3:]\n",
    "print(sliced_items)"
   ]
  },
  {
   "cell_type": "markdown",
   "metadata": {},
   "source": [
    "# 6."
   ]
  },
  {
   "cell_type": "code",
   "execution_count": 33,
   "metadata": {},
   "outputs": [
    {
     "ename": "NameError",
     "evalue": "name 'food_stuff_tp' is not defined",
     "output_type": "error",
     "traceback": [
      "\u001b[1;31m---------------------------------------------------------------------------\u001b[0m",
      "\u001b[1;31mNameError\u001b[0m                                 Traceback (most recent call last)",
      "\u001b[1;32mc:\\Users\\My Pc\\Desktop\\AREWADS-WORKSPACE\\arewads-30days-assignment\\day6\\day6_assignment.ipynb Cell 25\u001b[0m line \u001b[0;36m2\n\u001b[0;32m      <a href='vscode-notebook-cell:/c%3A/Users/My%20Pc/Desktop/AREWADS-WORKSPACE/arewads-30days-assignment/day6/day6_assignment.ipynb#X36sZmlsZQ%3D%3D?line=0'>1</a>\u001b[0m \u001b[39mdel\u001b[39;00m food_stuff_tp\n\u001b[1;32m----> <a href='vscode-notebook-cell:/c%3A/Users/My%20Pc/Desktop/AREWADS-WORKSPACE/arewads-30days-assignment/day6/day6_assignment.ipynb#X36sZmlsZQ%3D%3D?line=1'>2</a>\u001b[0m \u001b[39mprint\u001b[39m(food_stuff_tp)\n",
      "\u001b[1;31mNameError\u001b[0m: name 'food_stuff_tp' is not defined"
     ]
    }
   ],
   "source": [
    "del food_stuff_tp\n",
    "print(food_stuff_tp)"
   ]
  },
  {
   "cell_type": "markdown",
   "metadata": {},
   "source": [
    "# 7."
   ]
  },
  {
   "cell_type": "code",
   "execution_count": 37,
   "metadata": {},
   "outputs": [
    {
     "ename": "NameError",
     "evalue": "name 'food_stuff_tp' is not defined",
     "output_type": "error",
     "traceback": [
      "\u001b[1;31m---------------------------------------------------------------------------\u001b[0m",
      "\u001b[1;31mNameError\u001b[0m                                 Traceback (most recent call last)",
      "\u001b[1;32mc:\\Users\\My Pc\\Desktop\\AREWADS-WORKSPACE\\arewads-30days-assignment\\day6\\day6_assignment.ipynb Cell 27\u001b[0m line \u001b[0;36m1\n\u001b[1;32m----> <a href='vscode-notebook-cell:/c%3A/Users/My%20Pc/Desktop/AREWADS-WORKSPACE/arewads-30days-assignment/day6/day6_assignment.ipynb#X40sZmlsZQ%3D%3D?line=0'>1</a>\u001b[0m \u001b[39mif\u001b[39;00m fruites \u001b[39min\u001b[39;00m food_stuff_tp:\n\u001b[0;32m      <a href='vscode-notebook-cell:/c%3A/Users/My%20Pc/Desktop/AREWADS-WORKSPACE/arewads-30days-assignment/day6/day6_assignment.ipynb#X40sZmlsZQ%3D%3D?line=1'>2</a>\u001b[0m     \u001b[39mprint\u001b[39m(\u001b[39m\"\u001b[39m\u001b[39mThe item exist in the tuple!\u001b[39m\u001b[39m\"\u001b[39m)\n\u001b[0;32m      <a href='vscode-notebook-cell:/c%3A/Users/My%20Pc/Desktop/AREWADS-WORKSPACE/arewads-30days-assignment/day6/day6_assignment.ipynb#X40sZmlsZQ%3D%3D?line=2'>3</a>\u001b[0m \u001b[39melse\u001b[39;00m:\n",
      "\u001b[1;31mNameError\u001b[0m: name 'food_stuff_tp' is not defined"
     ]
    }
   ],
   "source": [
    "if fruites in food_stuff_tp:\n",
    "    print(\"The item exist in the tuple!\")\n",
    "else:\n",
    "   print(\"No item exist in the tuple\")"
   ]
  },
  {
   "cell_type": "code",
   "execution_count": 44,
   "metadata": {},
   "outputs": [
    {
     "ename": "IndentationError",
     "evalue": "unexpected indent (4208048965.py, line 4)",
     "output_type": "error",
     "traceback": [
      "\u001b[1;36m  Cell \u001b[1;32mIn[44], line 4\u001b[1;36m\u001b[0m\n\u001b[1;33m    if 'Estonia' in nordic_countries:\u001b[0m\n\u001b[1;37m    ^\u001b[0m\n\u001b[1;31mIndentationError\u001b[0m\u001b[1;31m:\u001b[0m unexpected indent\n"
     ]
    }
   ],
   "source": [
    " nordic_countries = ('Denmark', 'Finland','Iceland', 'Norway', 'Sweden')\n",
    "\n",
    "\n",
    "  if 'Estonia' in nordic_countries:\n",
    "    print(\"Yes, Estonia is a nordic country\")\n",
    "    else:\n",
    "        print(\"No, Estonia is not a nordic country\")\n",
    "\n",
    "  if 'Iceland' in nordic_countries:\n",
    "    print(\"Yes, Iceland is a nordic country\")\n",
    "    else:\n",
    "        print(\"No, ICeland is not a nordic country\")      "
   ]
  }
 ],
 "metadata": {
  "kernelspec": {
   "display_name": "Python 3",
   "language": "python",
   "name": "python3"
  },
  "language_info": {
   "codemirror_mode": {
    "name": "ipython",
    "version": 3
   },
   "file_extension": ".py",
   "mimetype": "text/x-python",
   "name": "python",
   "nbconvert_exporter": "python",
   "pygments_lexer": "ipython3",
   "version": "3.10.8"
  }
 },
 "nbformat": 4,
 "nbformat_minor": 2
}
