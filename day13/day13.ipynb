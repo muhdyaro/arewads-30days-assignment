{
 "cells": [
  {
   "cell_type": "markdown",
   "metadata": {},
   "source": [
    "## 💻 Exercises: Day 13"
   ]
  },
  {
   "cell_type": "markdown",
   "metadata": {},
   "source": [
    "###  1."
   ]
  },
  {
   "cell_type": "code",
   "execution_count": 1,
   "metadata": {},
   "outputs": [
    {
     "name": "stdout",
     "output_type": "stream",
     "text": [
      "[-4, -3, -2, -1, 0]\n"
     ]
    }
   ],
   "source": [
    "numbers = [-4, -3, -2, -1, 0, 2, 4, 6]\n",
    "\n",
    "filtered_numbers = [num for num in numbers if num <= 0]\n",
    "\n",
    "print(filtered_numbers)\n"
   ]
  },
  {
   "cell_type": "markdown",
   "metadata": {},
   "source": [
    "### 2."
   ]
  },
  {
   "cell_type": "code",
   "execution_count": 2,
   "metadata": {},
   "outputs": [
    {
     "name": "stdout",
     "output_type": "stream",
     "text": [
      "[1, 2, 3, 4, 5, 6, 7, 8, 9]\n"
     ]
    }
   ],
   "source": [
    "list_of_lists = [[[1, 2, 3]], [[4, 5, 6]], [[7, 8, 9]]]\n",
    "\n",
    "flattened_list = [num for sublist in list_of_lists for subsublist in sublist for num in subsublist]\n",
    "\n",
    "print(flattened_list)\n"
   ]
  },
  {
   "cell_type": "markdown",
   "metadata": {},
   "source": [
    "### 3."
   ]
  },
  {
   "cell_type": "code",
   "execution_count": 3,
   "metadata": {},
   "outputs": [
    {
     "name": "stdout",
     "output_type": "stream",
     "text": [
      "(0, 1, 0, 0, 0, 0, 0)\n",
      "(1, 1, 1, 1, 1, 1, 1)\n",
      "(2, 1, 2, 4, 8, 16, 32)\n",
      "(3, 1, 3, 9, 27, 81, 243)\n",
      "(4, 1, 4, 16, 64, 256, 1024)\n",
      "(5, 1, 5, 25, 125, 625, 3125)\n",
      "(6, 1, 6, 36, 216, 1296, 7776)\n",
      "(7, 1, 7, 49, 343, 2401, 16807)\n",
      "(8, 1, 8, 64, 512, 4096, 32768)\n",
      "(9, 1, 9, 81, 729, 6561, 59049)\n",
      "(10, 1, 10, 100, 1000, 10000, 100000)\n"
     ]
    }
   ],
   "source": [
    "power_tuples = [(i, 1, i, i**2, i**3, i**4, i**5) for i in range(11)]\n",
    "\n",
    "for tpl in power_tuples:\n",
    "    print(tpl)\n"
   ]
  },
  {
   "cell_type": "markdown",
   "metadata": {},
   "source": [
    "### 4."
   ]
  },
  {
   "cell_type": "code",
   "execution_count": 4,
   "metadata": {},
   "outputs": [
    {
     "name": "stdout",
     "output_type": "stream",
     "text": [
      "[['FINLAND', 'FIN', 'HELSINKI'], ['SWEDEN', 'SWE', 'STOCKHOLM'], ['NORWAY', 'NOR', 'OSLO']]\n"
     ]
    }
   ],
   "source": [
    "countries = [[('Finland', 'Helsinki')], [('Sweden', 'Stockholm')], [('Norway', 'Oslo')]]\n",
    "\n",
    "flattened_countries = [[country.upper(), country[:3].upper(), city.upper()] for sublist in countries for country, city in sublist]\n",
    "\n",
    "print(flattened_countries)\n"
   ]
  },
  {
   "cell_type": "markdown",
   "metadata": {},
   "source": [
    "### 5."
   ]
  },
  {
   "cell_type": "code",
   "execution_count": 5,
   "metadata": {},
   "outputs": [
    {
     "name": "stdout",
     "output_type": "stream",
     "text": [
      "[{'country': 'FINLAND', 'city': 'HELSINKI'}, {'country': 'SWEDEN', 'city': 'STOCKHOLM'}, {'country': 'NORWAY', 'city': 'OSLO'}]\n"
     ]
    }
   ],
   "source": [
    "countries = [[('Finland', 'Helsinki')], [('Sweden', 'Stockholm')], [('Norway', 'Oslo')]]\n",
    "\n",
    "list_of_dicts = [{'country': country.upper(), 'city': city.upper()} for sublist in countries for country, city in sublist]\n",
    "\n",
    "print(list_of_dicts)\n"
   ]
  },
  {
   "cell_type": "markdown",
   "metadata": {},
   "source": [
    "### 6."
   ]
  },
  {
   "cell_type": "code",
   "execution_count": 4,
   "metadata": {},
   "outputs": [
    {
     "name": "stdout",
     "output_type": "stream",
     "text": [
      "['Asabeneh  Yetayeh', 'David  Smith', 'Donald  Trump', 'Bill  Gates']\n"
     ]
    }
   ],
   "source": [
    "names = [[('Asabeneh', 'Yetayeh')], [('David', 'Smith')], [('Donald', 'Trump')], [('Bill', 'Gates')]]\n",
    "\n",
    "concatenated_names = ['  '.join(name) for sublist in names for name in sublist]\n",
    "\n",
    "print(concatenated_names)\n"
   ]
  },
  {
   "cell_type": "markdown",
   "metadata": {},
   "source": [
    "### 7."
   ]
  },
  {
   "cell_type": "code",
   "execution_count": 7,
   "metadata": {},
   "outputs": [
    {
     "name": "stdout",
     "output_type": "stream",
     "text": [
      "Slope: 1.0\n",
      "Y-intercept: 1\n"
     ]
    }
   ],
   "source": [
    "slope_function = lambda x1, y1, x2, y2: (y2 - y1) / (x2 - x1)\n",
    "slope = slope_function(1, 2, 3, 4)\n",
    "print(\"Slope:\", slope)\n",
    "\n",
    "y_intercept_function = lambda x, y, m: y - m * x\n",
    "\n",
    "y_intercept = y_intercept_function(1, 2, 1)\n",
    "print(\"Y-intercept:\", y_intercept)\n"
   ]
  }
 ],
 "metadata": {
  "kernelspec": {
   "display_name": "Python 3",
   "language": "python",
   "name": "python3"
  },
  "language_info": {
   "codemirror_mode": {
    "name": "ipython",
    "version": 3
   },
   "file_extension": ".py",
   "mimetype": "text/x-python",
   "name": "python",
   "nbconvert_exporter": "python",
   "pygments_lexer": "ipython3",
   "version": "3.10.8"
  }
 },
 "nbformat": 4,
 "nbformat_minor": 2
}
