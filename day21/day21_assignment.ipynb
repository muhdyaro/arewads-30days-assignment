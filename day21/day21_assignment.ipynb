{
 "cells": [
  {
   "cell_type": "markdown",
   "metadata": {},
   "source": [
    "## 💻 Exercises: Day 21"
   ]
  },
  {
   "cell_type": "markdown",
   "metadata": {},
   "source": [
    "\n",
    "### Exercises: Level 1."
   ]
  },
  {
   "cell_type": "markdown",
   "metadata": {},
   "source": [
    "### 1.\n"
   ]
  },
  {
   "cell_type": "code",
   "execution_count": 3,
   "metadata": {},
   "outputs": [
    {
     "name": "stdout",
     "output_type": "stream",
     "text": [
      "25\n",
      "744\n",
      "24\n",
      "38\n",
      "14\n",
      "30\n",
      "29\n",
      "(26, 5)\n",
      "17.6\n",
      "4.20\n",
      "[(24, 2), (25, 1), (26, 5), (27, 4), (29, 1), (31, 2), (32, 3), (33, 2), (34, 2), (37, 2), (38, 1)]\n",
      "\n"
     ]
    }
   ],
   "source": [
    "import math\n",
    "\n",
    "class Statistics:\n",
    "   \n",
    "    def __init__(self, data):\n",
    "        self.data = data\n",
    "\n",
    "    def count(self):\n",
    "        return len(self.data)\n",
    "    \n",
    "    def sum(self):\n",
    "        sum = 0\n",
    "        for num in self.data:\n",
    "            sum += num\n",
    "        return sum\n",
    "    \n",
    "    def min(self):\n",
    "        self.data.sort()\n",
    "        return self.data[0]\n",
    "\n",
    "\n",
    "    def max(self):\n",
    "        self.data.sort()\n",
    "        return self.data[-1]\n",
    "\n",
    "\n",
    "    def range(self):\n",
    "        return (self.max() - self.min())\n",
    "      \n",
    "    def mean(self):\n",
    "        return round(self.sum() / self.count())\n",
    "    \n",
    "    def median(self):\n",
    "        self.data.sort()\n",
    "        if self.count() % 2 == 0:\n",
    "            midpoint = self.count() // 2\n",
    "            return (self.data[midpoint] + self.data[midpoint + 1]) // 2\n",
    "        else:\n",
    "            midpoint = self.count() // 2\n",
    "            return self.data[midpoint]\n",
    "\n",
    "    def mode(self):\n",
    "        dic = {}\n",
    "        for num in self.data:\n",
    "            if num in dic:\n",
    "                dic[num] += 1\n",
    "            else:\n",
    "                dic[num] = 1\n",
    "        \n",
    "        list = [(v, k) for k, v in dic.items()]\n",
    "        list.sort()\n",
    "        mode, count = list[-1]\n",
    "        return (count, mode)\n",
    "\n",
    "    def std(self):\n",
    "        \n",
    "        u = self.mean()\n",
    "        result = 0\n",
    "        for number in self.data:\n",
    "            m = (number - u) ** 2\n",
    "            result += m\n",
    "        \n",
    "        return result / self.count()\n",
    "\n",
    "\n",
    "    def var(self):\n",
    "        u = self.mean()\n",
    "        result = 0\n",
    "        for number in self.data:\n",
    "            m = (number - u) ** 2\n",
    "            result += m\n",
    "        \n",
    "        return f\"{math.sqrt(result / self.count()):.2f}\"\n",
    "        \n",
    "    def freq_dis(self):\n",
    "        dic = {}\n",
    "        for num in self.data:\n",
    "            if num in dic:\n",
    "                dic[num] += 1\n",
    "            else:\n",
    "                dic[num] = 1\n",
    "        \n",
    "        list = [(k, v) for k, v in dic.items()]\n",
    "        list.sort()\n",
    "        return list\n",
    "    \n",
    "    \n",
    "ages = [31, 26, 34, 37, 27, 26, 32, 32, 26, 27, 27, 24, 32, 33, 27, 25, 26, 38, 37, 31, 34, 24, 33, 29, 26]\n",
    "data = Statistics(ages)\n",
    "\n",
    "print(data.count())\n",
    "print(data.sum())\n",
    "print(data.min())\n",
    "print(data.max())\n",
    "print(data.range())\n",
    "print(data.mean())\n",
    "print(data.median())\n",
    "print(data.mode())\n",
    "print(data.std())\n",
    "print(data.var())\n",
    "print(data.freq_dis())\n",
    "print()\n"
   ]
  },
  {
   "cell_type": "markdown",
   "metadata": {},
   "source": [
    "\n",
    "### Exercises: Level 2."
   ]
  },
  {
   "cell_type": "markdown",
   "metadata": {},
   "source": [
    "### 1."
   ]
  },
  {
   "cell_type": "code",
   "execution_count": 1,
   "metadata": {},
   "outputs": [
    {
     "name": "stdout",
     "output_type": "stream",
     "text": [
      "Account Information for John Doe:\n",
      "Total Income: 6000\n",
      "Total Expense: 2500\n",
      "Account Balance: 3500\n"
     ]
    }
   ],
   "source": [
    "class PersonAccount:\n",
    "    def __init__(self, firstname, lastname):\n",
    "        self.firstname = firstname\n",
    "        self.lastname = lastname\n",
    "        self.incomes = []\n",
    "        self.expenses = []\n",
    "\n",
    "    def add_income(self, amount, description):\n",
    "        self.incomes.append({'amount': amount, 'description': description})\n",
    "\n",
    "    def add_expense(self, amount, description):\n",
    "        self.expenses.append({'amount': amount, 'description': description})\n",
    "\n",
    "    def total_income(self):\n",
    "        return sum(income['amount'] for income in self.incomes)\n",
    "\n",
    "    def total_expense(self):\n",
    "        return sum(expense['amount'] for expense in self.expenses)\n",
    "\n",
    "    def account_balance(self):\n",
    "        return self.total_income() - self.total_expense()\n",
    "\n",
    "    def account_info(self):\n",
    "        print(f\"Account Information for {self.firstname} {self.lastname}:\")\n",
    "        print(f\"Total Income: {self.total_income()}\")\n",
    "        print(f\"Total Expense: {self.total_expense()}\")\n",
    "        print(f\"Account Balance: {self.account_balance()}\")\n",
    "\n",
    "# Example usage:\n",
    "person = PersonAccount(\"John\", \"Doe\")\n",
    "\n",
    "person.add_income(5000, \"Salary\")\n",
    "person.add_income(1000, \"Bonus\")\n",
    "\n",
    "person.add_expense(2000, \"Rent\")\n",
    "person.add_expense(500, \"Utilities\")\n",
    "\n",
    "person.account_info()\n"
   ]
  }
 ],
 "metadata": {
  "kernelspec": {
   "display_name": "Python 3",
   "language": "python",
   "name": "python3"
  },
  "language_info": {
   "codemirror_mode": {
    "name": "ipython",
    "version": 3
   },
   "file_extension": ".py",
   "mimetype": "text/x-python",
   "name": "python",
   "nbconvert_exporter": "python",
   "pygments_lexer": "ipython3",
   "version": "3.10.8"
  }
 },
 "nbformat": 4,
 "nbformat_minor": 2
}
