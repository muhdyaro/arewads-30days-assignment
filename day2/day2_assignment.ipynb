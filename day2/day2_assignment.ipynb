{
 "cells": [
  {
   "cell_type": "markdown",
   "metadata": {},
   "source": [
    "# Exercise: Level 1"
   ]
  },
  {
   "cell_type": "code",
   "execution_count": 2,
   "metadata": {},
   "outputs": [],
   "source": [
    "#Day 2: 30 Days of python programming\n",
    "\n",
    "first_name = 'Muhammad'\n",
    "last_name = 'Yaro'\n",
    "country = 'Nigeria'\n",
    "city = 'Kano'\n",
    "age = 16\n",
    "year = 2023\n",
    "is_married = 'False'\n",
    "is_true = 'true'\n",
    "is_light_on = 'light'\n",
    "first_name, age, country = 'Muhammad', '16', 'Nigeria'\n",
    "\n"
   ]
  },
  {
   "cell_type": "markdown",
   "metadata": {},
   "source": [
    "# Exersice Level 2"
   ]
  },
  {
   "cell_type": "markdown",
   "metadata": {},
   "source": [
    "# 1."
   ]
  },
  {
   "cell_type": "code",
   "execution_count": 1,
   "metadata": {},
   "outputs": [
    {
     "name": "stdout",
     "output_type": "stream",
     "text": [
      "<class 'str'>\n",
      "<class 'str'>\n",
      "<class 'int'>\n",
      "<class 'int'>\n",
      "<class 'bool'>\n",
      "<class 'bool'>\n",
      "<class 'dict'>\n"
     ]
    }
   ],
   "source": [
    "# Printing out types\n",
    "print(type('Muhammad'))   \n",
    "print(type('Yaro'))    \n",
    "print(type(16))             \n",
    "print(type(2023))           \n",
    "print(type(False))   \n",
    "print(type((True)))          \n",
    "print(type({'first_name':'Muhammad','age':16, 'country':'Nigeria'})) "
   ]
  },
  {
   "cell_type": "markdown",
   "metadata": {},
   "source": [
    "# 2."
   ]
  },
  {
   "cell_type": "code",
   "execution_count": 3,
   "metadata": {},
   "outputs": [
    {
     "name": "stdout",
     "output_type": "stream",
     "text": [
      "8\n"
     ]
    }
   ],
   "source": [
    "print(len('Muhammad'))"
   ]
  },
  {
   "cell_type": "markdown",
   "metadata": {},
   "source": [
    "# 3."
   ]
  },
  {
   "cell_type": "code",
   "execution_count": 4,
   "metadata": {},
   "outputs": [
    {
     "name": "stdout",
     "output_type": "stream",
     "text": [
      "12\n"
     ]
    }
   ],
   "source": [
    "print(len('Muhammad' + 'Yaro'))"
   ]
  },
  {
   "cell_type": "markdown",
   "metadata": {},
   "source": [
    "# 4."
   ]
  },
  {
   "cell_type": "code",
   "execution_count": 11,
   "metadata": {},
   "outputs": [
    {
     "data": {
      "text/plain": [
       "1"
      ]
     },
     "execution_count": 11,
     "metadata": {},
     "output_type": "execute_result"
    }
   ],
   "source": [
    "num_one = 5 \n",
    "num_two = 4\n",
    "\n",
    "num_one + num_two \n",
    "total = 9\n",
    "\n",
    "num_two - num_one\n",
    "diff = -1\n",
    "\n",
    "num_two * num_one\n",
    "product = 20\n",
    "\n",
    "num_one / num_two\n",
    "division = 1.23\n",
    "\n",
    "num_two % num_two\n",
    "reminder = 0\n",
    "\n",
    "num_one ** num_two\n",
    "exp = 625\n",
    "\n",
    "num_one // num_two\n",
    "floor_divison = 1\n",
    "\n",
    "\n",
    "\n"
   ]
  },
  {
   "cell_type": "markdown",
   "metadata": {},
   "source": [
    "# 5."
   ]
  },
  {
   "cell_type": "code",
   "execution_count": 17,
   "metadata": {},
   "outputs": [
    {
     "name": "stdout",
     "output_type": "stream",
     "text": [
      "2827.4333882308138\n"
     ]
    }
   ],
   "source": [
    "import math\n",
    "\n",
    "radius = 30\n",
    "area_of_circle = math.pi * (radius ** 2)\n",
    "print(area_of_circle)\n",
    "\n",
    "area_of_circle = 2827.4333882308138\n"
   ]
  },
  {
   "cell_type": "code",
   "execution_count": 18,
   "metadata": {},
   "outputs": [
    {
     "name": "stdout",
     "output_type": "stream",
     "text": [
      "188.49555921538757\n"
     ]
    }
   ],
   "source": [
    "import math\n",
    "\n",
    "radius = 30\n",
    "circum_of_circle = 2 * math.pi * radius\n",
    "print(circum_of_circle)\n",
    "\n",
    "circum_of_circle = 188.49555921538757\n"
   ]
  },
  {
   "cell_type": "code",
   "execution_count": 19,
   "metadata": {},
   "outputs": [
    {
     "name": "stdout",
     "output_type": "stream",
     "text": [
      "30\n"
     ]
    }
   ],
   "source": [
    "import math\n",
    "\n",
    "area_of_circle = math.pi * (radius ** 2)\n",
    "print(radius)\n",
    "\n",
    "radius = 30"
   ]
  },
  {
   "cell_type": "markdown",
   "metadata": {},
   "source": [
    "# 6."
   ]
  },
  {
   "cell_type": "code",
   "execution_count": null,
   "metadata": {},
   "outputs": [],
   "source": [
    "first_name = input(\"Enter your first name\")\n",
    "last_name = input(\"Enter your last name\")\n",
    "country = input(\"Enter your country\")\n",
    "age = input(\"Enter your age\")\n",
    "\n",
    "\n",
    "first_name, last_name, country, age,  = 'Muhammad', 'Yaro', 'Nigeria', 23, \n",
    "\n",
    "print(first_name, last_name, country, age, is_married)\n",
    "print('First name:', first_name)\n",
    "print('Last name: ', last_name)\n",
    "print('Country: ', country)\n",
    "print('Age: ', age)\n"
   ]
  },
  {
   "cell_type": "code",
   "execution_count": null,
   "metadata": {},
   "outputs": [],
   "source": [
    "help(print)"
   ]
  }
 ],
 "metadata": {
  "kernelspec": {
   "display_name": "Python 3",
   "language": "python",
   "name": "python3"
  },
  "language_info": {
   "codemirror_mode": {
    "name": "ipython",
    "version": 3
   },
   "file_extension": ".py",
   "mimetype": "text/x-python",
   "name": "python",
   "nbconvert_exporter": "python",
   "pygments_lexer": "ipython3",
   "version": "3.10.8"
  }
 },
 "nbformat": 4,
 "nbformat_minor": 2
}
