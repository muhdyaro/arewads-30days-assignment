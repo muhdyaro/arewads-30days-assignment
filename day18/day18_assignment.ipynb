{
 "cells": [
  {
   "cell_type": "markdown",
   "metadata": {},
   "source": [
    "## 💻 Exercises: Day 18"
   ]
  },
  {
   "cell_type": "markdown",
   "metadata": {},
   "source": [
    "### Exercises: Level 1"
   ]
  },
  {
   "cell_type": "code",
   "execution_count": 1,
   "metadata": {},
   "outputs": [
    {
     "name": "stdout",
     "output_type": "stream",
     "text": [
      "The most frequent word is 'love' with a frequency of 6.\n"
     ]
    }
   ],
   "source": [
    "from collections import Counter\n",
    "import re\n",
    "\n",
    "paragraph = 'I love teaching. If you do not love teaching what else can you love. I love Python if you do not love something which can give you all the capabilities to develop an application what else can you love.'\n",
    "\n",
    "# Preprocess the paragraph (convert to lowercase and remove punctuation)\n",
    "processed_paragraph = re.sub(r'[^\\w\\s]', '', paragraph.lower())\n",
    "\n",
    "# Tokenize the paragraph into words\n",
    "words = processed_paragraph.split()\n",
    "\n",
    "# Use Counter to count the frequency of each word\n",
    "word_counts = Counter(words)\n",
    "\n",
    "# Find the most common word and its frequency\n",
    "most_common_word, frequency = word_counts.most_common(1)[0]\n",
    "\n",
    "# Print the result\n",
    "print(f\"The most frequent word is '{most_common_word}' with a frequency of {frequency}.\")\n"
   ]
  },
  {
   "cell_type": "code",
   "execution_count": 5,
   "metadata": {},
   "outputs": [
    {
     "name": "stdout",
     "output_type": "stream",
     "text": [
      "Numeric Values: [-12, -4, -3, -1, 0, 4, 8]\n",
      "Sorted Points: [-12, -4, -3, -1, 0, 4, 8]\n",
      "Distance between the two furthest particles: 20\n"
     ]
    }
   ],
   "source": [
    "import re\n",
    "\n",
    "text = \"The position of some particles on the horizontal x-axis are -12, -4, -3 and -1 in the negative direction, 0 at origin, 4 and 8 in the positive direction.\"\n",
    "\n",
    "# Use regular expression to find all numeric values\n",
    "numeric_values = [int(match) for match in re.findall(r'-?\\d+', text)]\n",
    "\n",
    "# Find the two furthest particles\n",
    "sorted_points = sorted(numeric_values)\n",
    "distance = sorted_points[-1] - sorted_points[0]\n",
    "\n",
    "print(\"Numeric Values:\", numeric_values)\n",
    "print(\"Sorted Points:\", sorted_points)\n",
    "print(\"Distance between the two furthest particles:\", distance)\n"
   ]
  },
  {
   "cell_type": "markdown",
   "metadata": {},
   "source": [
    "### Exercises: Level 2"
   ]
  },
  {
   "cell_type": "code",
   "execution_count": 6,
   "metadata": {},
   "outputs": [
    {
     "name": "stdout",
     "output_type": "stream",
     "text": [
      "True\n",
      "False\n",
      "False\n",
      "True\n"
     ]
    }
   ],
   "source": [
    "import re\n",
    "\n",
    "def is_valid_variable(variable_name):\n",
    "    pattern = re.compile(r'^[a-zA-Z_]\\w*$')\n",
    "    return bool(pattern.match(variable_name))\n",
    "\n",
    "# Test cases\n",
    "print(is_valid_variable('first_name'))  # True\n",
    "print(is_valid_variable('first-name'))  # False\n",
    "print(is_valid_variable('1first_name')) # False\n",
    "print(is_valid_variable('firstname'))   # True\n"
   ]
  },
  {
   "cell_type": "markdown",
   "metadata": {},
   "source": [
    "\n",
    "### Exercises: Level 3"
   ]
  },
  {
   "cell_type": "code",
   "execution_count": 7,
   "metadata": {},
   "outputs": [
    {
     "name": "stdout",
     "output_type": "stream",
     "text": [
      "i am a teacher and i love teaching there is nothing as more rewarding as educating and empowering people i found teaching more interesting than any other jobs does this motivate you to be a teacher\n",
      "[('i', 3), ('a', 2), ('teacher', 2)]\n"
     ]
    }
   ],
   "source": [
    "import re\n",
    "from collections import Counter\n",
    "\n",
    "def clean_text(text):\n",
    "    # Remove special characters and extra spaces\n",
    "    cleaned_text = re.sub(r'[^a-zA-Z\\s]', '', text)\n",
    "    # Convert to lowercase and remove extra spaces\n",
    "    cleaned_text = ' '.join(cleaned_text.lower().split())\n",
    "    return cleaned_text\n",
    "\n",
    "def most_frequent_words(text):\n",
    "    words = text.split()\n",
    "    word_counts = Counter(words)\n",
    "    most_frequent = word_counts.most_common(3)\n",
    "    return most_frequent\n",
    "\n",
    "sentence = '''%I $am@% a %tea@cher%, &and& I lo%#ve %tea@ching%;. There $is nothing; &as& mo@re rewarding as educa@ting &and& @emp%o@wering peo@ple. ;I found tea@ching m%o@re interesting tha@n any other %jo@bs. %Do@es thi%s mo@tivate yo@u to be a tea@cher!?'''\n",
    "\n",
    "cleaned_text = clean_text(sentence)\n",
    "print(cleaned_text)\n",
    "print(most_frequent_words(cleaned_text))\n"
   ]
  }
 ],
 "metadata": {
  "kernelspec": {
   "display_name": "Python 3",
   "language": "python",
   "name": "python3"
  },
  "language_info": {
   "codemirror_mode": {
    "name": "ipython",
    "version": 3
   },
   "file_extension": ".py",
   "mimetype": "text/x-python",
   "name": "python",
   "nbconvert_exporter": "python",
   "pygments_lexer": "ipython3",
   "version": "3.10.8"
  }
 },
 "nbformat": 4,
 "nbformat_minor": 2
}
