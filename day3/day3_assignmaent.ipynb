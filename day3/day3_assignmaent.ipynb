{
 "cells": [
  {
   "cell_type": "markdown",
   "metadata": {},
   "source": [
    "# Exersice - Day 3"
   ]
  },
  {
   "cell_type": "markdown",
   "metadata": {},
   "source": [
    "# 1."
   ]
  },
  {
   "cell_type": "code",
   "execution_count": null,
   "metadata": {},
   "outputs": [],
   "source": [
    "age = 23"
   ]
  },
  {
   "cell_type": "markdown",
   "metadata": {},
   "source": [
    "# 2."
   ]
  },
  {
   "cell_type": "code",
   "execution_count": null,
   "metadata": {},
   "outputs": [],
   "source": [
    "height = 6.5"
   ]
  },
  {
   "cell_type": "markdown",
   "metadata": {},
   "source": [
    "# 3."
   ]
  },
  {
   "cell_type": "code",
   "execution_count": null,
   "metadata": {},
   "outputs": [],
   "source": [
    "z = 5 + 4j"
   ]
  },
  {
   "cell_type": "markdown",
   "metadata": {},
   "source": [
    "# 4."
   ]
  },
  {
   "cell_type": "code",
   "execution_count": 3,
   "metadata": {},
   "outputs": [
    {
     "name": "stdout",
     "output_type": "stream",
     "text": [
      "The area of triangle is: 100.0\n"
     ]
    }
   ],
   "source": [
    "\n",
    "\n",
    "b = 20\n",
    "h = 10\n",
    "\n",
    "area = 0.5 * ( b * h )\n",
    "print(f\"The area of triangle is: {area}\")"
   ]
  },
  {
   "cell_type": "markdown",
   "metadata": {},
   "source": [
    "# 5."
   ]
  },
  {
   "cell_type": "code",
   "execution_count": 4,
   "metadata": {
    "vscode": {
     "languageId": "javascript"
    }
   },
   "outputs": [
    {
     "name": "stdout",
     "output_type": "stream",
     "text": [
      "The paremeter of a triangle is: 12\n"
     ]
    }
   ],
   "source": [
    "\n",
    "a = 5\n",
    "b = 4\n",
    "c = 3\n",
    "\n",
    "paremeter =  a + b + c\n",
    "print(f\"The paremeter of a triangle is: {paremeter}\")"
   ]
  },
  {
   "cell_type": "markdown",
   "metadata": {},
   "source": [
    "# 6."
   ]
  },
  {
   "cell_type": "code",
   "execution_count": 6,
   "metadata": {},
   "outputs": [
    {
     "name": "stdout",
     "output_type": "stream",
     "text": [
      "The area is: \n",
      "The perimeter is: 50\n"
     ]
    }
   ],
   "source": [
    "length = 5\n",
    "width = 5\n",
    "\n",
    "area = length * width\n",
    "print(f\"The area is: \")\n",
    "\n",
    "\n",
    "\n",
    "length = 5\n",
    "width = 5\n",
    "\n",
    "perimeter = 2 * (length * width)\n",
    "print(f\"The perimeter is: {perimeter}\")"
   ]
  },
  {
   "cell_type": "markdown",
   "metadata": {},
   "source": [
    "# 7."
   ]
  },
  {
   "cell_type": "code",
   "execution_count": 3,
   "metadata": {},
   "outputs": [
    {
     "name": "stdout",
     "output_type": "stream",
     "text": [
      "The circumference is: 2260.8\n"
     ]
    }
   ],
   "source": [
    "r = 360\n",
    "pi = 3.14\n",
    "\n",
    "c = 2 * pi * r\n",
    "print(f\"The circumference is: {c}\")"
   ]
  },
  {
   "cell_type": "markdown",
   "metadata": {},
   "source": [
    "# 8."
   ]
  },
  {
   "cell_type": "code",
   "execution_count": 7,
   "metadata": {},
   "outputs": [
    {
     "name": "stdout",
     "output_type": "stream",
     "text": [
      "x-intercept value is: 1.3333333333333333\n",
      "y-intercept value is: 0\n"
     ]
    }
   ],
   "source": [
    "\n",
    "y = 2\n",
    "x = (y + 2) / 3\n",
    "\n",
    "print(f\"x-intercept value is: {x}\")\n",
    "\n",
    "# y-intercept\n",
    "x = 1\n",
    "y = (2 * x) -2\n",
    "\n",
    "print(f\"y-intercept value is: {y}\")\n"
   ]
  },
  {
   "cell_type": "markdown",
   "metadata": {},
   "source": [
    "# 9."
   ]
  },
  {
   "cell_type": "code",
   "execution_count": 1,
   "metadata": {},
   "outputs": [
    {
     "name": "stdout",
     "output_type": "stream",
     "text": [
      "The slope(m) is: 2.0\n"
     ]
    }
   ],
   "source": [
    "x1 = 2\n",
    "x2 = 6\n",
    "y1 = 2\n",
    "y2 = 10\n",
    "\n",
    "m = (y2 - y1) / (x2 - x1)\n",
    "print(f\"The slope(m) is: {m}\")\n"
   ]
  },
  {
   "cell_type": "markdown",
   "metadata": {},
   "source": [
    "# 10."
   ]
  },
  {
   "cell_type": "code",
   "execution_count": 45,
   "metadata": {},
   "outputs": [
    {
     "name": "stdout",
     "output_type": "stream",
     "text": [
      "2\n"
     ]
    }
   ],
   "source": [
    "slope_tsk8 = 0\n",
    "slope_tsk9 = 2\n",
    "print(slope_tsk8 + slope_tsk9)"
   ]
  },
  {
   "cell_type": "markdown",
   "metadata": {},
   "source": [
    "# 11."
   ]
  },
  {
   "cell_type": "code",
   "execution_count": 44,
   "metadata": {},
   "outputs": [
    {
     "name": "stdout",
     "output_type": "stream",
     "text": [
      "72\n"
     ]
    }
   ],
   "source": [
    "y = 4^2 + 65 + 9\n",
    "print(y)"
   ]
  },
  {
   "cell_type": "markdown",
   "metadata": {},
   "source": [
    "# 12."
   ]
  },
  {
   "cell_type": "code",
   "execution_count": 1,
   "metadata": {},
   "outputs": [
    {
     "name": "stdout",
     "output_type": "stream",
     "text": [
      "False\n",
      "False\n",
      "False\n",
      "False\n"
     ]
    }
   ],
   "source": [
    "p = len(\"python\")\n",
    "d = len(\"dragon\")\n",
    "\n",
    "print(p > d)\n",
    "print(p != d)\n",
    "print(d < p)\n",
    "print((p != d) and (d < p))"
   ]
  },
  {
   "cell_type": "markdown",
   "metadata": {},
   "source": [
    "# 13.\n"
   ]
  },
  {
   "cell_type": "code",
   "execution_count": 5,
   "metadata": {},
   "outputs": [
    {
     "name": "stdout",
     "output_type": "stream",
     "text": [
      "True\n",
      "True\n"
     ]
    }
   ],
   "source": [
    "print(\"on\" in \"python\")\n",
    "print(\"on\" in \"dragon\")"
   ]
  },
  {
   "cell_type": "markdown",
   "metadata": {},
   "source": [
    "# 14."
   ]
  },
  {
   "cell_type": "code",
   "execution_count": 6,
   "metadata": {},
   "outputs": [
    {
     "name": "stdout",
     "output_type": "stream",
     "text": [
      "True\n"
     ]
    }
   ],
   "source": [
    "sentence = \"I hope this course is not full of jargon\"\n",
    "print(\"jargon\" in sentence)"
   ]
  },
  {
   "cell_type": "markdown",
   "metadata": {},
   "source": [
    "# 15."
   ]
  },
  {
   "cell_type": "code",
   "execution_count": 7,
   "metadata": {},
   "outputs": [
    {
     "name": "stdout",
     "output_type": "stream",
     "text": [
      "False\n",
      "False\n"
     ]
    }
   ],
   "source": [
    "d = \"dragon\"\n",
    "p = \"python\"\n",
    "\n",
    "print(\"on\" not in d)\n",
    "print(\"on\" not in p)"
   ]
  },
  {
   "cell_type": "markdown",
   "metadata": {},
   "source": [
    "# 16."
   ]
  },
  {
   "cell_type": "code",
   "execution_count": 8,
   "metadata": {},
   "outputs": [
    {
     "name": "stdout",
     "output_type": "stream",
     "text": [
      "6.0\n",
      "6\n",
      "<class 'str'>\n"
     ]
    }
   ],
   "source": [
    "length = len(\"python\")\n",
    "\n",
    "print(float(length))\n",
    "print(str(length))\n",
    "\n",
    "\n",
    "print(type(str(length)))"
   ]
  },
  {
   "cell_type": "markdown",
   "metadata": {},
   "source": [
    "# 17."
   ]
  },
  {
   "cell_type": "code",
   "execution_count": 1,
   "metadata": {},
   "outputs": [
    {
     "name": "stdout",
     "output_type": "stream",
     "text": [
      "5 is odd.\n"
     ]
    }
   ],
   "source": [
    "number = 5\n",
    "\n",
    "if (number % 2) == 0:\n",
    "    print(f\"{number} is even.\")\n",
    "else:\n",
    "    print(f\"{number} is odd.\")"
   ]
  },
  {
   "cell_type": "markdown",
   "metadata": {},
   "source": [
    "# 18."
   ]
  },
  {
   "cell_type": "code",
   "execution_count": 7,
   "metadata": {},
   "outputs": [
    {
     "name": "stdout",
     "output_type": "stream",
     "text": [
      "2\n"
     ]
    }
   ],
   "source": [
    "a = 7\n",
    "b = 3\n",
    "\n",
    "f_division = a // b\n",
    "print(int(f_division))"
   ]
  },
  {
   "cell_type": "markdown",
   "metadata": {},
   "source": [
    "# 19."
   ]
  },
  {
   "cell_type": "code",
   "execution_count": 8,
   "metadata": {},
   "outputs": [
    {
     "name": "stdout",
     "output_type": "stream",
     "text": [
      "False\n"
     ]
    }
   ],
   "source": [
    "x = \"10\"\n",
    "y = 10\n",
    "\n",
    "print((type(x)) == (type(y)))"
   ]
  },
  {
   "cell_type": "markdown",
   "metadata": {},
   "source": [
    "# 20."
   ]
  },
  {
   "cell_type": "code",
   "execution_count": 9,
   "metadata": {},
   "outputs": [
    {
     "name": "stdout",
     "output_type": "stream",
     "text": [
      "False\n"
     ]
    }
   ],
   "source": [
    "a = \"9.8\"\n",
    "b = 10\n",
    "\n",
    "print((type(a)) == (type(int(b))))"
   ]
  },
  {
   "cell_type": "markdown",
   "metadata": {},
   "source": [
    "# 21."
   ]
  },
  {
   "cell_type": "code",
   "execution_count": 1,
   "metadata": {},
   "outputs": [
    {
     "name": "stdout",
     "output_type": "stream",
     "text": [
      "Your weekly earning is $1120\n"
     ]
    }
   ],
   "source": [
    "hour = 40\n",
    "rate_per_hour = 28\n",
    "\n",
    "pay = hour * rate_per_hour \n",
    "print(f\"Your weekly earning is ${pay}\")"
   ]
  },
  {
   "cell_type": "markdown",
   "metadata": {},
   "source": [
    "# 22."
   ]
  },
  {
   "cell_type": "code",
   "execution_count": 1,
   "metadata": {},
   "outputs": [
    {
     "name": "stdout",
     "output_type": "stream",
     "text": [
      "A person can live approximately 1419120000 seconds.\n"
     ]
    }
   ],
   "source": [
    "years =int(45)\n",
    "seconds_per_minute = 60\n",
    "minutes_per_hour = 60\n",
    "hours_per_day = 24\n",
    "days_per_year = 365\n",
    "years_lifespan = 100\n",
    "\n",
    "seconds_alive = years * days_per_year * hours_per_day * minutes_per_hour * seconds_per_minute\n",
    "\n",
    "\n",
    "print(\"A person can live approximately\", seconds_alive, \"seconds.\")\n"
   ]
  },
  {
   "cell_type": "markdown",
   "metadata": {},
   "source": [
    "# 23."
   ]
  },
  {
   "cell_type": "code",
   "execution_count": 2,
   "metadata": {},
   "outputs": [
    {
     "name": "stdout",
     "output_type": "stream",
     "text": [
      "1\t1\t1\t1\t1\n",
      "2\t1\t2\t4\t8\n",
      "3\t1\t3\t9\t27\n",
      "4\t1\t4\t16\t64\n",
      "5\t1\t5\t25\t125\n"
     ]
    }
   ],
   "source": [
    "print(\"1\\t1\\t1\\t1\\t1\")\n",
    "print(\"2\\t1\\t2\\t4\\t8\")\n",
    "print(\"3\\t1\\t3\\t9\\t27\")\n",
    "print(\"4\\t1\\t4\\t16\\t64\")\n",
    "print(\"5\\t1\\t5\\t25\\t125\")"
   ]
  }
 ],
 "metadata": {
  "kernelspec": {
   "display_name": "Python 3",
   "language": "python",
   "name": "python3"
  },
  "language_info": {
   "codemirror_mode": {
    "name": "ipython",
    "version": 3
   },
   "file_extension": ".py",
   "mimetype": "text/x-python",
   "name": "python",
   "nbconvert_exporter": "python",
   "pygments_lexer": "ipython3",
   "version": "3.12.0"
  }
 },
 "nbformat": 4,
 "nbformat_minor": 2
}
