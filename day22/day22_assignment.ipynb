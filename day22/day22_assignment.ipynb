{
 "cells": [
  {
   "cell_type": "markdown",
   "metadata": {},
   "source": [
    "## 💻 Exercises: Day 22"
   ]
  },
  {
   "cell_type": "markdown",
   "metadata": {},
   "source": [
    "### 1."
   ]
  },
  {
   "cell_type": "code",
   "execution_count": 25,
   "metadata": {},
   "outputs": [
    {
     "name": "stdout",
     "output_type": "stream",
     "text": [
      "Data has been successfully scraped and stored as bu_facts_and_stats.json\n"
     ]
    }
   ],
   "source": [
    "import requests\n",
    "from bs4 import BeautifulSoup\n",
    "import json\n",
    "\n",
    "# URL of the website\n",
    "url = 'http://www.bu.edu/president/boston-university-facts-stats/'\n",
    "\n",
    "# Send a GET request to the URL\n",
    "response = requests.get(url)\n",
    "\n",
    "# Check if the request was successful (status code 200)\n",
    "if response.status_code == 200:\n",
    "    # Parse the HTML content of the page using BeautifulSoup\n",
    "    soup = BeautifulSoup(response.text, 'html.parser')\n",
    "\n",
    "    # Find the relevant data on the page and store it in a dictionary\n",
    "    data = {\n",
    "        'title': soup.title.text,\n",
    "        'facts_and_stats': []\n",
    "    }\n",
    "\n",
    "    # Extract facts and stats from the page\n",
    "    for section in soup.find_all('section', class_='facts-stats-section'):\n",
    "        section_title = section.find('h2').text.strip()\n",
    "        section_content = section.find('div', class_='content').text.strip()\n",
    "\n",
    "        data['facts_and_stats'].append({\n",
    "            'section_title': section_title,\n",
    "            'section_content': section_content\n",
    "        })\n",
    "\n",
    "    # Save the data as a JSON file\n",
    "    with open('bu_facts_and_stats.json', 'w', encoding='utf-8') as json_file:\n",
    "        json.dump(data, json_file, ensure_ascii=False, indent=2)\n",
    "\n",
    "    print('Data has been successfully scraped and stored as bu_facts_and_stats.json')\n",
    "\n",
    "else:\n",
    "    print(f\"Failed to retrieve the page. Status code: {response.status_code}\")\n"
   ]
  },
  {
   "cell_type": "markdown",
   "metadata": {},
   "source": [
    "### 2."
   ]
  },
  {
   "cell_type": "code",
   "execution_count": null,
   "metadata": {},
   "outputs": [],
   "source": [
    "import requests\n",
    "from bs4 import BeautifulSoup\n",
    "import json\n",
    "\n",
    "url = 'https://archive.ics.uci.edu/ml/datasets.php'\n",
    "\n",
    "# Send an HTTP request to the URL\n",
    "response = requests.get(url)\n",
    "\n",
    "# Parse the HTML content of the page\n",
    "soup = BeautifulSoup(response.content, 'html.parser')\n",
    "\n",
    "# Find the table on the page\n",
    "table = soup.find('table')\n",
    "\n",
    "# Extract the table data\n",
    "table_data = []\n",
    "headers = [header.text.strip() for header in table.find_all('th')]\n",
    "for row in table.find_all('tr')[1:]:\n",
    "    row_data = [cell.text.strip() for cell in row.find_all('td')]\n",
    "    table_data.append(dict(zip(headers, row_data)))\n",
    "\n",
    "# Store the data as a JSON file\n",
    "with open('uci_datasets.json', 'w', encoding='utf-8') as json_file:\n",
    "    json.dump(table_data, json_file, ensure_ascii=False, indent=4)\n",
    "\n",
    "print('Table data extracted and stored as uci_datasets.json.')\n"
   ]
  },
  {
   "cell_type": "markdown",
   "metadata": {},
   "source": [
    "### 3."
   ]
  },
  {
   "cell_type": "code",
   "execution_count": null,
   "metadata": {},
   "outputs": [],
   "source": [
    "\n",
    "url = \"https://en.wikipedia.org/wiki/List_of_presidents_of_the_United_States\"\n",
    "response = requests.get(url)\n",
    "import re\n",
    "soup = BeautifulSoup(response.content, \"lxml\")\n",
    "\n",
    "table = soup.find(\"table\", class_=\"wikitable\")\n",
    "\n",
    "rows = table.find_all(\"tr\")\n",
    "result = []\n",
    "for row in rows[1:]:\n",
    "    store = {}\n",
    "    cells = row.find_all(\"td\")\n",
    "    name = re.sub(r'[\\n]', ' ', cells[1].text).replace('\\u2013', ' -- ')\n",
    "    term = re.sub(r'[\\n]', ' ',cells[2].text).replace('\\u2013', ' -- ')\n",
    "    store = {'name':name, 'Tenure':term}\n",
    "    result.append(store)\n",
    "   \n",
    "# Store the data as a JSON file\n",
    "with open(\"day_022\\\\List of presidents.json\", \"w\") as file:\n",
    "   json.dump(result, file, indent=4)\n",
    "   print(\"Question 3, done\")"
   ]
  }
 ],
 "metadata": {
  "kernelspec": {
   "display_name": "Python 3",
   "language": "python",
   "name": "python3"
  },
  "language_info": {
   "codemirror_mode": {
    "name": "ipython",
    "version": 3
   },
   "file_extension": ".py",
   "mimetype": "text/x-python",
   "name": "python",
   "nbconvert_exporter": "python",
   "pygments_lexer": "ipython3",
   "version": "3.10.8"
  }
 },
 "nbformat": 4,
 "nbformat_minor": 2
}
