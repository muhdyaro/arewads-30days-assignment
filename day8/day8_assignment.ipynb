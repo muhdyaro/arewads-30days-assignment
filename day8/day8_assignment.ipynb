{
 "cells": [
  {
   "cell_type": "markdown",
   "metadata": {},
   "source": [
    "# Exercises Day 8"
   ]
  },
  {
   "cell_type": "markdown",
   "metadata": {},
   "source": [
    "# 1."
   ]
  },
  {
   "cell_type": "code",
   "execution_count": 2,
   "metadata": {},
   "outputs": [],
   "source": [
    "dog = {\n",
    "\n",
    "}"
   ]
  },
  {
   "cell_type": "markdown",
   "metadata": {},
   "source": [
    "# 2."
   ]
  },
  {
   "cell_type": "code",
   "execution_count": null,
   "metadata": {},
   "outputs": [],
   "source": [
    "dog = {\n",
    "    'name' : 'Bingo',\n",
    "    'color' : 'Brown',\n",
    "    'breed' : 'Italian',\n",
    "    'legs' : 'Shanky',\n",
    "    'age' : 6\n",
    "}"
   ]
  },
  {
   "cell_type": "markdown",
   "metadata": {},
   "source": [
    "# 3."
   ]
  },
  {
   "cell_type": "code",
   "execution_count": 11,
   "metadata": {},
   "outputs": [],
   "source": [
    "student_dictionary = {\n",
    "    'first_name' : 'Muhammad',\n",
    "    'last_name' :'Yaro', \n",
    "    'gender' : \"male\", \n",
    "    'age': 24, \n",
    "    'marital status' : 'Single', \n",
    "    'skills' : ['JavaScript', 'React', 'Node', 'MongoDB', 'Python'], \n",
    "    'country': 'Nigeria',\n",
    "    'city' : 'Kano',  \n",
    "    'address' : {\n",
    "        'street':'Janruwa Street',\n",
    "        'LGA':'Gwale'\n",
    "\n",
    "    } \n",
    "}\n"
   ]
  },
  {
   "cell_type": "markdown",
   "metadata": {},
   "source": [
    "## 4."
   ]
  },
  {
   "cell_type": "code",
   "execution_count": 12,
   "metadata": {},
   "outputs": [
    {
     "name": "stdout",
     "output_type": "stream",
     "text": [
      "9\n"
     ]
    }
   ],
   "source": [
    "print(len(student_dictionary))"
   ]
  },
  {
   "cell_type": "markdown",
   "metadata": {},
   "source": [
    "## 5."
   ]
  },
  {
   "cell_type": "code",
   "execution_count": 13,
   "metadata": {},
   "outputs": [
    {
     "name": "stdout",
     "output_type": "stream",
     "text": [
      "['JavaScript', 'React', 'Node', 'MongoDB', 'Python']\n"
     ]
    }
   ],
   "source": [
    "print(student_dictionary['skills']) "
   ]
  },
  {
   "cell_type": "markdown",
   "metadata": {},
   "source": [
    "## 6."
   ]
  },
  {
   "cell_type": "code",
   "execution_count": 22,
   "metadata": {},
   "outputs": [
    {
     "name": "stdout",
     "output_type": "stream",
     "text": [
      "{'first_name': 'Muhammad', 'last_name': 'Yaro', 'gender': 'male', 'age': 24, 'marital status': 'Single', 'skills': ['JavaScript', 'React', 'Node', 'MongoDB', 'Python', 'HTML', 'CSS'], 'country': 'Nigeria', 'city': 'Kano', 'address': {'street': 'Janruwa Street', 'LGA': 'Gwale'}}\n"
     ]
    }
   ],
   "source": [
    "student_dictionary = {\n",
    "    'first_name' : 'Muhammad',\n",
    "    'last_name' :'Yaro', \n",
    "    'gender' : \"male\", \n",
    "    'age': 24, \n",
    "    'marital status' : 'Single', \n",
    "    'skills' : ['JavaScript', 'React', 'Node', 'MongoDB', 'Python'], \n",
    "    'country': 'Nigeria',\n",
    "    'city' : 'Kano',  \n",
    "    'address' : {\n",
    "        'street':'Janruwa Street',\n",
    "        'LGA':'Gwale'\n",
    "\n",
    "    } \n",
    "}\n",
    "\n",
    "new_skills = ['HTML', 'CSS']\n",
    "student_dictionary['skills'].extend(new_skills)\n",
    "print(student_dictionary)"
   ]
  },
  {
   "cell_type": "markdown",
   "metadata": {},
   "source": [
    "## 7"
   ]
  },
  {
   "cell_type": "code",
   "execution_count": 23,
   "metadata": {},
   "outputs": [
    {
     "name": "stdout",
     "output_type": "stream",
     "text": [
      "['first_name', 'last_name', 'gender', 'age', 'marital status', 'skills', 'country', 'city', 'address']\n"
     ]
    }
   ],
   "source": [
    "key_list = list(student_dictionary.keys())\n",
    "print(key_list)"
   ]
  },
  {
   "cell_type": "markdown",
   "metadata": {},
   "source": [
    "## 8."
   ]
  },
  {
   "cell_type": "code",
   "execution_count": 28,
   "metadata": {},
   "outputs": [
    {
     "name": "stdout",
     "output_type": "stream",
     "text": [
      "['Muhammad', 'Yaro', 'male', 24, 'Single', 'Nigeria', 'Kano', {'street': 'Janruwa Street', 'LGA': 'Gwale'}]\n"
     ]
    }
   ],
   "source": [
    "student_values = list(student_dictionary.values())\n",
    "print(student_values)"
   ]
  },
  {
   "cell_type": "markdown",
   "metadata": {},
   "source": [
    "## 9."
   ]
  },
  {
   "cell_type": "code",
   "execution_count": 24,
   "metadata": {},
   "outputs": [
    {
     "name": "stdout",
     "output_type": "stream",
     "text": [
      "[('first_name', 'Muhammad'), ('last_name', 'Yaro'), ('gender', 'male'), ('age', 24), ('marital status', 'Single'), ('skills', ['JavaScript', 'React', 'Node', 'MongoDB', 'Python', 'HTML', 'CSS']), ('country', 'Nigeria'), ('city', 'Kano'), ('address', {'street': 'Janruwa Street', 'LGA': 'Gwale'})]\n"
     ]
    }
   ],
   "source": [
    "student_list = list(student_dictionary.items())\n",
    "print(student_list)"
   ]
  },
  {
   "cell_type": "markdown",
   "metadata": {},
   "source": [
    "## 10."
   ]
  },
  {
   "cell_type": "code",
   "execution_count": 25,
   "metadata": {},
   "outputs": [
    {
     "name": "stdout",
     "output_type": "stream",
     "text": [
      "{'first_name': 'Muhammad', 'last_name': 'Yaro', 'gender': 'male', 'age': 24, 'marital status': 'Single', 'country': 'Nigeria', 'city': 'Kano', 'address': {'street': 'Janruwa Street', 'LGA': 'Gwale'}}\n"
     ]
    }
   ],
   "source": [
    "del student_dictionary['skills']\n",
    "print(student_dictionary)"
   ]
  },
  {
   "cell_type": "markdown",
   "metadata": {},
   "source": [
    "## 11."
   ]
  },
  {
   "cell_type": "code",
   "execution_count": 31,
   "metadata": {},
   "outputs": [
    {
     "name": "stdout",
     "output_type": "stream",
     "text": [
      "{'first_name': 'Muhammad', 'gender': 'male', 'age': 24, 'marital status': 'Single', 'country': 'Nigeria', 'city': 'Kano', 'address': {'street': 'Janruwa Street', 'LGA': 'Gwale'}}\n"
     ]
    }
   ],
   "source": [
    "del student_dictionary['last_name']\n",
    "print(student_dictionary)"
   ]
  }
 ],
 "metadata": {
  "kernelspec": {
   "display_name": "Python 3",
   "language": "python",
   "name": "python3"
  },
  "language_info": {
   "codemirror_mode": {
    "name": "ipython",
    "version": 3
   },
   "file_extension": ".py",
   "mimetype": "text/x-python",
   "name": "python",
   "nbconvert_exporter": "python",
   "pygments_lexer": "ipython3",
   "version": "3.10.8"
  }
 },
 "nbformat": 4,
 "nbformat_minor": 2
}
