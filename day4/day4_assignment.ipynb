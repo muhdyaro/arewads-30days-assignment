{
 "cells": [
  {
   "cell_type": "markdown",
   "metadata": {},
   "source": [
    "# Exersice Day 4"
   ]
  },
  {
   "cell_type": "markdown",
   "metadata": {},
   "source": [
    "# 1."
   ]
  },
  {
   "cell_type": "code",
   "execution_count": 1,
   "metadata": {},
   "outputs": [
    {
     "name": "stdout",
     "output_type": "stream",
     "text": [
      "Thirty Days Of Python\n"
     ]
    }
   ],
   "source": [
    "string_1 = \"Thirty\"\n",
    "string_2 = \"Days\"\n",
    "string_3 = \"Of\"\n",
    "string_4 = \"Python\"\n",
    "\n",
    "string = string_1 + \" \" + string_2 + \" \" + string_3 + \" \" + string_4\n",
    "print(string)"
   ]
  },
  {
   "cell_type": "markdown",
   "metadata": {},
   "source": [
    "# 2."
   ]
  },
  {
   "cell_type": "code",
   "execution_count": 2,
   "metadata": {},
   "outputs": [
    {
     "name": "stdout",
     "output_type": "stream",
     "text": [
      "coding For All\n"
     ]
    }
   ],
   "source": [
    "str_1 = \"coding\"\n",
    "str_2 = \"For\"\n",
    "str_3 = \"All\"\n",
    "\n",
    "str_4 = str_1 + \" \" + str_2 + \" \" + str_3\n",
    "print(str_4)"
   ]
  },
  {
   "cell_type": "markdown",
   "metadata": {},
   "source": [
    "# 3 - 17."
   ]
  },
  {
   "cell_type": "code",
   "execution_count": 10,
   "metadata": {},
   "outputs": [
    {
     "name": "stdout",
     "output_type": "stream",
     "text": [
      "Coding For All\n",
      "14\n",
      "CODING FOR ALL\n",
      "coding for all\n",
      "Coding for all\n",
      "Coding For All\n",
      "cODING fOR aLL\n",
      "C\n",
      "Python For All\n",
      "Coding For Everyone\n",
      "['Coding', 'For', 'All']\n",
      "C\n",
      "l\n",
      " \n",
      "Coding for All    \n",
      "    Coding for All\n",
      "Coding for All\n",
      "Coding for All    \n",
      "    Coding for All\n",
      "Coding for All\n",
      "33\n",
      "49\n",
      "True\n",
      "False\n",
      "Django#Flask#Bottle#Pyramid#Falcon\n",
      "I am enjoying this challenge. just wonder what is next.\n",
      "Name \tAge \tCountry \tCity\n",
      "Asabeneh 250     Finland     Helsinki\n",
      "The area of a circle with 10 is 314.0 metres square\n",
      "8 + 6 = 14\n",
      "8 - 6 = 2\n",
      "8 * 6 = 48\n",
      "8 / 6 = 1.3333333333333333\n",
      "8 % 6 = 2\n",
      "8 // 6 = 1\n",
      "8 ** 6 = 262144\n"
     ]
    }
   ],
   "source": [
    "company = \"Coding For All\" # 3\n",
    "print(company) # 4\n",
    "print(len(company)) # 5\n",
    "print(company.upper()) # 6\n",
    "print(company.lower()) # 7\n",
    "print(company.capitalize()) # 8\n",
    "print(company.title()) # 8\n",
    "print(company.swapcase()) # 8\n",
    "print(company[0]) # 9\n",
    "print(company.replace(\"Coding\", \"Python\")) # 11\n",
    "print(company.replace(\"All\", \"Everyone\")) # 12\n",
    "print(company.split()) # 13\n",
    "\n",
    "\n",
    "\n",
    "\n",
    "\n",
    "print(company[0])  #15\n",
    "print(company[-1])  #16\n",
    "print(company[10])  #17 \n",
    "\n",
    "\n",
    "\n",
    "\n",
    "\n",
    "stripping = \"    Coding for All    \"\n",
    "print(stripping.lstrip())\n",
    "print(stripping.rstrip())\n",
    "print(stripping.strip())\n",
    "\n",
    "stripping = \"    Coding for All    \"\n",
    "print(stripping.lstrip())\n",
    "print(stripping.rstrip())\n",
    "print(stripping.strip())\n",
    "\n",
    "sentence = \"You cannot end the sentence with because because because is a conjunction \"\n",
    "print(sentence.find(\"because\"))\n",
    "print(sentence.rindex(\"because\"))\n",
    "print(company.startswith(\"Coding\"))\n",
    "print(company.endswith(\"Coding\"))\n",
    "\n",
    "#32\n",
    "python_libraries = ['Django', 'Flask', 'Bottle', 'Pyramid', 'Falcon']\n",
    "j = \"#\".join(python_libraries)\n",
    "print(j)\n",
    "\n",
    "#33\n",
    "print(\"I am enjoying this challenge. just wonder what is next.\")\n",
    "#34\n",
    "print(\"Name \\tAge \\tCountry \\tCity\")\n",
    "print(\"Asabeneh 250     Finland     Helsinki\")\n",
    "\n",
    "# 35\n",
    "radius = 10\n",
    "area = 3.14 * radius ** 2\n",
    "print(f\"The area of a circle with {radius} is {area} metres square\")\n",
    "\n",
    "#36\n",
    "a = 8\n",
    "b = 6\n",
    "\n",
    "\n",
    "print(f\"{a} + {b} = {a + b}\")\n",
    "print(f\"{a} - {b} = {a - b}\")\n",
    "print(f\"{a} * {b} = {a * b}\")\n",
    "print(f\"{a} / {b} = {a / b}\")\n",
    "print(f\"{a} % {b} = {a % b}\")\n",
    "print(f\"{a} // {b} = {a // b}\")\n",
    "print(f\"{a} ** {b} = {a ** b}\")\n"
   ]
  }
 ],
 "metadata": {
  "kernelspec": {
   "display_name": "Python 3",
   "language": "python",
   "name": "python3"
  },
  "language_info": {
   "codemirror_mode": {
    "name": "ipython",
    "version": 3
   },
   "file_extension": ".py",
   "mimetype": "text/x-python",
   "name": "python",
   "nbconvert_exporter": "python",
   "pygments_lexer": "ipython3",
   "version": "3.10.8"
  }
 },
 "nbformat": 4,
 "nbformat_minor": 2
}
