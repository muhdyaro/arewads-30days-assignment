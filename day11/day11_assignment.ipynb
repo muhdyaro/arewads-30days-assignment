{
 "cells": [
  {
   "cell_type": "markdown",
   "metadata": {},
   "source": [
    "## 💻 Exercises: Day 11"
   ]
  },
  {
   "cell_type": "markdown",
   "metadata": {},
   "source": [
    "### Exercises: Level 1"
   ]
  },
  {
   "cell_type": "markdown",
   "metadata": {},
   "source": [
    "### 1."
   ]
  },
  {
   "cell_type": "code",
   "execution_count": 1,
   "metadata": {},
   "outputs": [
    {
     "name": "stdout",
     "output_type": "stream",
     "text": [
      "The sum is: 12\n"
     ]
    }
   ],
   "source": [
    "def add_two_numbers(num1, num2):\n",
    "  \n",
    "    return num1 + num2\n",
    "\n",
    "result = add_two_numbers(5, 7)\n",
    "print(f\"The sum is: {result}\")\n"
   ]
  },
  {
   "cell_type": "markdown",
   "metadata": {},
   "source": [
    "### 2."
   ]
  },
  {
   "cell_type": "code",
   "execution_count": 2,
   "metadata": {},
   "outputs": [
    {
     "name": "stdout",
     "output_type": "stream",
     "text": [
      "The area of a circle with radius 5 is: 78.53981633974483\n"
     ]
    }
   ],
   "source": [
    "import math\n",
    "\n",
    "def area_of_circle(radius):\n",
    "   \n",
    "    return math.pi * radius ** 2\n",
    "\n",
    "radius = 5\n",
    "circle_area = area_of_circle(radius)\n",
    "print(f\"The area of a circle with radius {radius} is: {circle_area}\")\n"
   ]
  },
  {
   "cell_type": "markdown",
   "metadata": {},
   "source": [
    "### 3."
   ]
  },
  {
   "cell_type": "code",
   "execution_count": 3,
   "metadata": {},
   "outputs": [
    {
     "data": {
      "text/plain": [
       "12"
      ]
     },
     "execution_count": 3,
     "metadata": {},
     "output_type": "execute_result"
    }
   ],
   "source": [
    "def add_all_nums(*args):\n",
    "    total = 0\n",
    "\n",
    "    for num in args:\n",
    "        # Check if the argument is a number\n",
    "        if not isinstance(num, (int, float)):\n",
    "            return \"Error: All arguments must be numeric.\"\n",
    "\n",
    "        total += num\n",
    "\n",
    "    return total\n",
    "\n",
    "=\n",
    "result \n"
   ]
  },
  {
   "cell_type": "markdown",
   "metadata": {},
   "source": [
    "### 4."
   ]
  },
  {
   "cell_type": "code",
   "execution_count": 4,
   "metadata": {},
   "outputs": [
    {
     "name": "stdout",
     "output_type": "stream",
     "text": [
      "25°C is equal to 77.0°F\n"
     ]
    }
   ],
   "source": [
    "def convert_celsius_to_fahrenheit(celsius):\n",
    "\n",
    "    fahrenheit = (celsius * 9/5) + 32\n",
    "    return fahrenheit\n",
    "\n",
    "\n",
    "temperature_celsius = 25\n",
    "temperature_fahrenheit = convert_celsius_to_fahrenheit(temperature_celsius)\n",
    "print(f\"{temperature_celsius}°C is equal to {temperature_fahrenheit}°F\")\n"
   ]
  },
  {
   "cell_type": "markdown",
   "metadata": {},
   "source": [
    "## 5."
   ]
  },
  {
   "cell_type": "code",
   "execution_count": 1,
   "metadata": {},
   "outputs": [],
   "source": [
    "def check_season(month):\n",
    "    \n",
    "    month = month.lower() if isinstance(month, str) else month\n",
    "\n",
    "    if month in [9, 'september', 10, 'october', 11, 'november']:\n",
    "        return 'Autumn'\n",
    "    elif month in [12, 'december', 1, 'january', 2, 'february']:\n",
    "        return 'Winter'\n",
    "    elif month in [3, 'march', 4, 'april', 5, 'may']:\n",
    "        return 'Spring'\n",
    "    elif month in [6, 'june', 7, 'july', 8, 'august']:\n",
    "        return 'Summer'\n",
    "    else:\n",
    "        return 'Invalid month'\n",
    "\n",
    "month_input = input(\"Enter month: \")\n",
    "season_result = check_season(month_input)\n",
    "print(f\"The season for {month_input} is: {season_result}\")\n"
   ]
  },
  {
   "cell_type": "markdown",
   "metadata": {},
   "source": [
    "## 6."
   ]
  },
  {
   "cell_type": "code",
   "execution_count": 1,
   "metadata": {},
   "outputs": [
    {
     "name": "stdout",
     "output_type": "stream",
     "text": [
      "The slope of the linear equation is: 2\n"
     ]
    }
   ],
   "source": [
    "def calculate_slope(m):\n",
    "   \n",
    "    return m\n",
    "\n",
    "\n",
    "slope_coefficient = 2  \n",
    "slope_result = calculate_slope(slope_coefficient)\n",
    "print(f\"The slope of the linear equation is: {slope_result}\")\n"
   ]
  },
  {
   "cell_type": "markdown",
   "metadata": {},
   "source": [
    "## 7."
   ]
  },
  {
   "cell_type": "code",
   "execution_count": 2,
   "metadata": {},
   "outputs": [
    {
     "name": "stdout",
     "output_type": "stream",
     "text": [
      "The roots of the quadratic equation are: ((2+0j), (1+0j))\n"
     ]
    }
   ],
   "source": [
    "import cmath  \n",
    "\n",
    "def solve_quadratic_eqn(a, b, c):\n",
    "    \n",
    "    \n",
    "    discriminant = cmath.sqrt(b**2 - 4*a*c)\n",
    "\n",
    "   \n",
    "    root1 = (-b + discriminant) / (2*a)\n",
    "    root2 = (-b - discriminant) / (2*a)\n",
    "\n",
    "    return root1, root2\n",
    "\n",
    "\n",
    "a_coefficient = 1  \n",
    "b_coefficient = -3\n",
    "c_coefficient = 2\n",
    "\n",
    "roots = solve_quadratic_eqn(a_coefficient, b_coefficient, c_coefficient)\n",
    "print(f\"The roots of the quadratic equation are: {roots}\")\n"
   ]
  },
  {
   "cell_type": "markdown",
   "metadata": {},
   "source": [
    "## 8."
   ]
  },
  {
   "cell_type": "code",
   "execution_count": 3,
   "metadata": {},
   "outputs": [
    {
     "name": "stdout",
     "output_type": "stream",
     "text": [
      "1\n",
      "2\n",
      "3\n",
      "a\n",
      "b\n",
      "c\n"
     ]
    }
   ],
   "source": [
    "def print_list(my_list):\n",
    "    \n",
    "    for element in my_list:\n",
    "        print(element)\n",
    "\n",
    "\n",
    "my_list = [1, 2, 3, 'a', 'b', 'c']\n",
    "print_list(my_list)\n"
   ]
  },
  {
   "cell_type": "markdown",
   "metadata": {},
   "source": [
    "## 9."
   ]
  },
  {
   "cell_type": "code",
   "execution_count": 4,
   "metadata": {},
   "outputs": [
    {
     "name": "stdout",
     "output_type": "stream",
     "text": [
      "[5, 4, 3, 2, 1]\n",
      "['C', 'B', 'A']\n"
     ]
    }
   ],
   "source": [
    "def reverse_list(my_list):\n",
    "   \n",
    "    reversed_list = []\n",
    "    for i in range(len(my_list) - 1, -1, -1):\n",
    "        reversed_list.append(my_list[i])\n",
    "    return reversed_list\n",
    "\n",
    "\n",
    "example_list1 = [1, 2, 3, 4, 5]\n",
    "example_list2 = [\"A\", \"B\", \"C\"]\n",
    "\n",
    "print(reverse_list(example_list1)) \n",
    "print(reverse_list(example_list2))  \n"
   ]
  },
  {
   "cell_type": "markdown",
   "metadata": {},
   "source": [
    "## 10."
   ]
  },
  {
   "cell_type": "code",
   "execution_count": 1,
   "metadata": {},
   "outputs": [
    {
     "name": "stdout",
     "output_type": "stream",
     "text": [
      "['Apple', 'Banana', 'Orange', 'Grape']\n"
     ]
    }
   ],
   "source": [
    "def capitalize_list_items(input_list):\n",
    "    \n",
    "    capitalized_list = [item.capitalize() for item in input_list]\n",
    "    return capitalized_list\n",
    "\n",
    "input_items = [\"apple\", \"banana\", \"orange\", \"grape\"]\n",
    "result = capitalize_list_items(input_items)\n",
    "print(result)\n"
   ]
  },
  {
   "cell_type": "markdown",
   "metadata": {},
   "source": [
    "## 11."
   ]
  },
  {
   "cell_type": "code",
   "execution_count": 3,
   "metadata": {},
   "outputs": [
    {
     "name": "stdout",
     "output_type": "stream",
     "text": [
      "['Potato', 'Tomato', 'Mango', 'Milk', 'Meat']\n",
      "[2, 3, 7, 9, 5]\n"
     ]
    }
   ],
   "source": [
    "def add_item(input_list, item):\n",
    "    updated_list = input_list + [item]\n",
    "    return updated_list\n",
    "\n",
    "\n",
    "food_staff = ['Potato', 'Tomato', 'Mango', 'Milk']\n",
    "result_food = add_item(food_staff, 'Meat')\n",
    "print(result_food)   \n",
    "\n",
    "numbers = [2, 3, 7, 9]\n",
    "result_numbers = add_item(numbers, 5)\n",
    "print(result_numbers)  \n"
   ]
  },
  {
   "cell_type": "markdown",
   "metadata": {},
   "source": [
    "## 12."
   ]
  },
  {
   "cell_type": "code",
   "execution_count": 4,
   "metadata": {},
   "outputs": [
    {
     "name": "stdout",
     "output_type": "stream",
     "text": [
      "['Potato', 'Tomato', 'Milk']\n",
      "[2, 7, 9]\n"
     ]
    }
   ],
   "source": [
    "def remove_item(input_list, item):\n",
    "   \n",
    "    updated_list = [i for i in input_list if i != item]\n",
    "    return updated_list\n",
    "\n",
    "\n",
    "food_staff = ['Potato', 'Tomato', 'Mango', 'Milk']\n",
    "result_food = remove_item(food_staff, 'Mango')\n",
    "print(result_food) \n",
    "\n",
    "numbers = [2, 3, 7, 9]\n",
    "result_numbers = remove_item(numbers, 3)\n",
    "print(result_numbers)  \n"
   ]
  },
  {
   "cell_type": "markdown",
   "metadata": {},
   "source": [
    "## 13."
   ]
  },
  {
   "cell_type": "code",
   "execution_count": 5,
   "metadata": {},
   "outputs": [
    {
     "name": "stdout",
     "output_type": "stream",
     "text": [
      "15\n",
      "55\n",
      "5050\n"
     ]
    }
   ],
   "source": [
    "def sum_of_numbers(n):\n",
    "    return sum(range(1, n + 1))\n",
    "\n",
    "\n",
    "print(sum_of_numbers(5))   \n",
    "print(sum_of_numbers(10))   \n",
    "print(sum_of_numbers(100)) \n"
   ]
  },
  {
   "cell_type": "markdown",
   "metadata": {},
   "source": [
    "## 14."
   ]
  },
  {
   "cell_type": "code",
   "execution_count": 6,
   "metadata": {},
   "outputs": [
    {
     "name": "stdout",
     "output_type": "stream",
     "text": [
      "9\n",
      "25\n",
      "64\n"
     ]
    }
   ],
   "source": [
    "def sum_of_odds(n):\n",
    "\n",
    "    return sum(i for i in range(1, n + 1) if i % 2 != 0)\n",
    "\n",
    "\n",
    "print(sum_of_odds(5))    \n",
    "print(sum_of_odds(10))\n",
    "print(sum_of_odds(15))  \n"
   ]
  },
  {
   "cell_type": "markdown",
   "metadata": {},
   "source": [
    "## 15"
   ]
  },
  {
   "cell_type": "code",
   "execution_count": 7,
   "metadata": {},
   "outputs": [
    {
     "name": "stdout",
     "output_type": "stream",
     "text": [
      "6\n",
      "30\n",
      "56\n"
     ]
    }
   ],
   "source": [
    "def sum_of_even(n):\n",
    "    return sum(i for i in range(1, n + 1) if i % 2 == 0)\n",
    "\n",
    "print(sum_of_even(5))    \n",
    "print(sum_of_even(10))  \n",
    "print(sum_of_even(15))  \n"
   ]
  },
  {
   "cell_type": "markdown",
   "metadata": {},
   "source": [
    "# Exercises: Level 2"
   ]
  },
  {
   "cell_type": "markdown",
   "metadata": {},
   "source": [
    "## 1."
   ]
  },
  {
   "cell_type": "code",
   "execution_count": 8,
   "metadata": {},
   "outputs": [
    {
     "name": "stdout",
     "output_type": "stream",
     "text": [
      "The number of odds are 1.\n",
      "The number of evens are 2.\n"
     ]
    }
   ],
   "source": [
    "def evens_and_odds(number):\n",
    "   \n",
    "    if number <= 0:\n",
    "        return \"Please provide a positive integer.\"\n",
    "\n",
    "    evens_count = sum(1 for digit in str(number) if int(digit) % 2 == 0)\n",
    "    odds_count = len(str(number)) - evens_count\n",
    "\n",
    "    return f\"The number of odds are {odds_count}.\\nThe number of evens are {evens_count}.\"\n",
    "\n",
    "\n",
    "print(evens_and_odds(100))\n",
    "\n"
   ]
  },
  {
   "cell_type": "markdown",
   "metadata": {},
   "source": [
    "## 1."
   ]
  },
  {
   "cell_type": "code",
   "execution_count": 9,
   "metadata": {},
   "outputs": [
    {
     "name": "stdout",
     "output_type": "stream",
     "text": [
      "120\n",
      "1\n",
      "3628800\n"
     ]
    }
   ],
   "source": [
    "def factorial(n):\n",
    "   \n",
    "    if n < 0:\n",
    "        return \"Factorial is not defined for negative numbers.\"\n",
    "    elif n == 0 or n == 1:\n",
    "        return 1\n",
    "    else:\n",
    "        result = 1\n",
    "        for i in range(2, n + 1):\n",
    "            result *= i\n",
    "        return result\n",
    "\n",
    "print(factorial(5))  \n",
    "print(factorial(0))  \n",
    "print(factorial(10))\n"
   ]
  },
  {
   "cell_type": "markdown",
   "metadata": {},
   "source": [
    "## 2.\n"
   ]
  },
  {
   "cell_type": "code",
   "execution_count": 10,
   "metadata": {},
   "outputs": [
    {
     "name": "stdout",
     "output_type": "stream",
     "text": [
      "True\n",
      "False\n",
      "True\n",
      "False\n"
     ]
    }
   ],
   "source": [
    "def is_empty(value):\n",
    "   \n",
    "    return not bool(value)\n",
    "\n",
    "\n",
    "empty_string = \"\"\n",
    "non_empty_string = \"Hello, World!\"\n",
    "empty_list = []\n",
    "non_empty_list = [1, 2, 3]\n",
    "\n",
    "print(is_empty(empty_string))    \n",
    "print(is_empty(non_empty_string))\n",
    "print(is_empty(empty_list))       \n",
    "print(is_empty(non_empty_list))  \n"
   ]
  },
  {
   "cell_type": "markdown",
   "metadata": {},
   "source": [
    "## 3."
   ]
  },
  {
   "cell_type": "code",
   "execution_count": 11,
   "metadata": {},
   "outputs": [
    {
     "name": "stdout",
     "output_type": "stream",
     "text": [
      "Mean: 5.0\n",
      "Median: 4.5\n",
      "Mode: 4\n",
      "Range: 7\n",
      "Variance: 4.571428571428571\n",
      "Standard Deviation: 2.138089935299395\n"
     ]
    }
   ],
   "source": [
    "import statistics\n",
    "\n",
    "def calculate_mean(data):\n",
    "   \n",
    "    if not data:\n",
    "        return None\n",
    "    return sum(data) / len(data)\n",
    "\n",
    "def calculate_median(data):\n",
    "  \n",
    "    if not data:\n",
    "        return None\n",
    "    return statistics.median(data)\n",
    "\n",
    "def calculate_mode(data):\n",
    "   \n",
    "    if not data:\n",
    "        return None\n",
    "    return statistics.mode(data)\n",
    "\n",
    "def calculate_range(data):\n",
    "  \n",
    "    if not data:\n",
    "        return None\n",
    "    return max(data) - min(data)\n",
    "\n",
    "def calculate_variance(data):\n",
    "  \n",
    "    if not data:\n",
    "        return None\n",
    "    return statistics.variance(data)\n",
    "\n",
    "def calculate_std(data):\n",
    "  \n",
    "    if not data:\n",
    "        return None\n",
    "    return statistics.stdev(data)\n",
    "\n",
    "# Example usage:\n",
    "data = [2, 4, 4, 4, 5, 5, 7, 9]\n",
    "print(\"Mean:\", calculate_mean(data))\n",
    "print(\"Median:\", calculate_median(data))\n",
    "print(\"Mode:\", calculate_mode(data))\n",
    "print(\"Range:\", calculate_range(data))\n",
    "print(\"Variance:\", calculate_variance(data))\n",
    "print(\"Standard Deviation:\", calculate_std(data))\n"
   ]
  },
  {
   "cell_type": "markdown",
   "metadata": {},
   "source": [
    "# Exercises: Level 3"
   ]
  },
  {
   "cell_type": "markdown",
   "metadata": {},
   "source": [
    "## 1."
   ]
  },
  {
   "cell_type": "code",
   "execution_count": 12,
   "metadata": {},
   "outputs": [
    {
     "name": "stdout",
     "output_type": "stream",
     "text": [
      "True\n",
      "False\n",
      "True\n",
      "False\n"
     ]
    }
   ],
   "source": [
    "def is_prime(number):\n",
    "    return number > 1 and all(number % i != 0 for i in range(2, int(number**0.5) + 1))\n",
    "\n",
    "\n",
    "print(is_prime(17))  \n",
    "print(is_prime(4))   \n",
    "print(is_prime(13))  \n",
    "print(is_prime(1))   \n"
   ]
  },
  {
   "cell_type": "markdown",
   "metadata": {},
   "source": [
    "## 2."
   ]
  },
  {
   "cell_type": "code",
   "execution_count": 13,
   "metadata": {},
   "outputs": [
    {
     "name": "stdout",
     "output_type": "stream",
     "text": [
      "True\n",
      "False\n"
     ]
    }
   ],
   "source": [
    "def are_all_unique(input_list):\n",
    "   \n",
    "    return len(input_list) == len(set(input_list))\n",
    "\n",
    "unique_list = [1, 2, 3, 4, 5]\n",
    "non_unique_list = [1, 2, 2, 3, 4, 5]\n",
    "\n",
    "print(are_all_unique(unique_list))     \n",
    "print(are_all_unique(non_unique_list)) \n"
   ]
  },
  {
   "cell_type": "markdown",
   "metadata": {},
   "source": [
    "## 3."
   ]
  },
  {
   "cell_type": "code",
   "execution_count": 14,
   "metadata": {},
   "outputs": [
    {
     "name": "stdout",
     "output_type": "stream",
     "text": [
      "True\n",
      "False\n"
     ]
    }
   ],
   "source": [
    "def are_all_same_type(input_list):\n",
    "    \n",
    "    if not input_list:\n",
    "        return True\n",
    "    \n",
    "    first_item_type = type(input_list[0])\n",
    "    return all(type(item) == first_item_type for item in input_list)\n",
    "\n",
    "same_type_list = [1, 2, 3, 4, 5]\n",
    "mixed_type_list = [1, 'two', 3.0, (4, 5)]\n",
    "\n",
    "print(are_all_same_type(same_type_list))   \n",
    "print(are_all_same_type(mixed_type_list))  \n"
   ]
  },
  {
   "cell_type": "markdown",
   "metadata": {},
   "source": [
    "## 4."
   ]
  },
  {
   "cell_type": "code",
   "execution_count": 15,
   "metadata": {},
   "outputs": [
    {
     "name": "stdout",
     "output_type": "stream",
     "text": [
      "True\n",
      "False\n"
     ]
    }
   ],
   "source": [
    "def is_valid_variable(variable_name):\n",
    "   \n",
    "    return variable_name.isidentifier()\n",
    "\n",
    "# Example usage:\n",
    "valid_variable = \"my_variable\"\n",
    "invalid_variable = \"3rd_variable\"\n",
    "\n",
    "print(is_valid_variable(valid_variable))     \n",
    "print(is_valid_variable(invalid_variable))    \n"
   ]
  },
  {
   "cell_type": "markdown",
   "metadata": {},
   "source": [
    "## 5."
   ]
  },
  {
   "cell_type": "code",
   "execution_count": 1,
   "metadata": {},
   "outputs": [
    {
     "ename": "ModuleNotFoundError",
     "evalue": "No module named 'countries_data'",
     "output_type": "error",
     "traceback": [
      "\u001b[1;31m---------------------------------------------------------------------------\u001b[0m",
      "\u001b[1;31mModuleNotFoundError\u001b[0m                       Traceback (most recent call last)",
      "\u001b[1;32mc:\\Users\\My Pc\\Desktop\\AREWADS-WORKSPACE\\arewads-30days-assignment\\day11\\day11_assignment.ipynb Cell 52\u001b[0m line \u001b[0;36m3\n\u001b[0;32m      <a href='vscode-notebook-cell:/c%3A/Users/My%20Pc/Desktop/AREWADS-WORKSPACE/arewads-30days-assignment/day11/day11_assignment.ipynb#Y102sZmlsZQ%3D%3D?line=0'>1</a>\u001b[0m \u001b[39mimport\u001b[39;00m \u001b[39msys\u001b[39;00m\n\u001b[0;32m      <a href='vscode-notebook-cell:/c%3A/Users/My%20Pc/Desktop/AREWADS-WORKSPACE/arewads-30days-assignment/day11/day11_assignment.ipynb#Y102sZmlsZQ%3D%3D?line=1'>2</a>\u001b[0m sys\u001b[39m.\u001b[39mpath\u001b[39m.\u001b[39mappend(\u001b[39m'\u001b[39m\u001b[39m../data\u001b[39m\u001b[39m'\u001b[39m)\n\u001b[1;32m----> <a href='vscode-notebook-cell:/c%3A/Users/My%20Pc/Desktop/AREWADS-WORKSPACE/arewads-30days-assignment/day11/day11_assignment.ipynb#Y102sZmlsZQ%3D%3D?line=2'>3</a>\u001b[0m \u001b[39mimport\u001b[39;00m \u001b[39mcountries_data\u001b[39;00m\n\u001b[0;32m      <a href='vscode-notebook-cell:/c%3A/Users/My%20Pc/Desktop/AREWADS-WORKSPACE/arewads-30days-assignment/day11/day11_assignment.ipynb#Y102sZmlsZQ%3D%3D?line=3'>4</a>\u001b[0m countries_data \u001b[39m=\u001b[39m countries_data\u001b[39m.\u001b[39mcountries_data\n\u001b[0;32m      <a href='vscode-notebook-cell:/c%3A/Users/My%20Pc/Desktop/AREWADS-WORKSPACE/arewads-30days-assignment/day11/day11_assignment.ipynb#Y102sZmlsZQ%3D%3D?line=5'>6</a>\u001b[0m \u001b[39m# -Create a function called the most_spoken_languages in the world. It should return 10 or 20 most spoken languages in the world in descending order\u001b[39;00m\n",
      "\u001b[1;31mModuleNotFoundError\u001b[0m: No module named 'countries_data'"
     ]
    }
   ],
   "source": [
    "import sys\n",
    "sys.path.append('../data')\n",
    "import countries_data\n",
    "countries_data = countries_data.countries_data\n",
    "\n",
    "# -Create a function called the most_spoken_languages in the world. It should return 10 or 20 most spoken languages in the world in descending order\n",
    "def most_spoken_languages(limit=10):\n",
    "    language_count = {}\n",
    "    \n",
    "    for country in countries_data:\n",
    "        languages = country['languages']\n",
    "        for language in languages:\n",
    "            if language in language_count:\n",
    "                language_count[language] += 1\n",
    "            else:\n",
    "                language_count[language] = 1\n",
    "    \n",
    "    # Sort the languages by count in descending order\n",
    "    sorted_languages = sorted(language_count.items(), key=lambda x: x[1], reverse=True)\n",
    "    \n",
    "    # Return the top 'limit' most spoken languages\n",
    "    return sorted_languages[:limit]\n",
    "\n",
    "# -Create a function called the most_populated_countries. It should return 10 or 20 most populated countries in descending order.\n",
    "def most_populated_countries(limit=10):\n",
    "    countries_population = {}\n",
    "    \n",
    "    for country in countries_data:\n",
    "        name = country['name']\n",
    "        population = country['population']\n",
    "        countries_population[name] = population\n",
    "    \n",
    "    # Sort the countries by population in descending order\n",
    "    sorted_countries = sorted(countries_population.items(), key=lambda x: x[1], reverse=True)\n",
    "    \n",
    "    # Return the top 'limit' most populated countries\n",
    "    return sorted_countries[:limit]\n",
    "\n",
    "# Example usage:\n",
    "print('20 Nost spoken languages:', most_spoken_languages(20))  # Get the top 10 most spoken languages\n",
    "print('10 Most populated countries:', most_populated_countries(10))"
   ]
  }
 ],
 "metadata": {
  "kernelspec": {
   "display_name": "Python 3",
   "language": "python",
   "name": "python3"
  },
  "language_info": {
   "codemirror_mode": {
    "name": "ipython",
    "version": 3
   },
   "file_extension": ".py",
   "mimetype": "text/x-python",
   "name": "python",
   "nbconvert_exporter": "python",
   "pygments_lexer": "ipython3",
   "version": "3.10.8"
  }
 },
 "nbformat": 4,
 "nbformat_minor": 2
}
