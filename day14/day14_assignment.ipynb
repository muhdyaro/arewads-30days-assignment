{
 "cells": [
  {
   "cell_type": "markdown",
   "metadata": {},
   "source": [
    "## 💻 Exercises: Day 14"
   ]
  },
  {
   "cell_type": "markdown",
   "metadata": {},
   "source": [
    "### Exercises: Level 1"
   ]
  },
  {
   "cell_type": "markdown",
   "metadata": {},
   "source": [
    "### 1"
   ]
  },
  {
   "cell_type": "markdown",
   "metadata": {},
   "source": [
    "Map is designed for transforming data. It applies a specified function to each element in an iterable, creating a new iterable with the transformed values. Filter is designed for selectively including elements in a new iterable based on a specified condition. While reduce is designed for aggregating the elements of an iterable into a single value using a specified binary function."
   ]
  },
  {
   "cell_type": "markdown",
   "metadata": {},
   "source": [
    "### 2."
   ]
  },
  {
   "cell_type": "markdown",
   "metadata": {},
   "source": [
    "A higher-order function is a function that takes one or more functions as arguments and/or returns a function as its result.A closure is a function object that has access to variables in its lexical scope, even when the function is called outside that scope. While A decorator is a higher-order function that takes a function and extends or modifies its behavior without changing its source code."
   ]
  },
  {
   "cell_type": "markdown",
   "metadata": {},
   "source": [
    "### 3."
   ]
  },
  {
   "cell_type": "code",
   "execution_count": 6,
   "metadata": {},
   "outputs": [
    {
     "name": "stdout",
     "output_type": "stream",
     "text": [
      "[11, 12, 13, 14]\n",
      "[25, 35]\n",
      "24\n"
     ]
    }
   ],
   "source": [
    "# Define a custom function called 'my_function' that adds 10 to a given number\n",
    "def my_function(x):\n",
    "    return x + 10\n",
    "\n",
    "# Example using map:\n",
    "original_list = [1, 2, 3, 4]\n",
    "mapped_result = map(my_function, original_list)\n",
    "mapped_list = list(mapped_result)\n",
    "print(mapped_list)  # Output: [11, 12, 13, 14]\n",
    "\n",
    "# Example using filter:\n",
    "original_list = [5, 15, 25, 35]\n",
    "filtered_result = filter(lambda x: x > 20, original_list)\n",
    "filtered_list = list(filtered_result)\n",
    "print(filtered_list)  # Output: [25, 35]\n",
    "\n",
    "# Example using reduce:\n",
    "from functools import reduce\n",
    "original_list = [1, 2, 3, 4]\n",
    "reduce_result = reduce(lambda x, y: x * y, original_list)\n",
    "print(reduce_result)  # Output: 24 (1 * 2 * 3 * 4)\n"
   ]
  },
  {
   "cell_type": "markdown",
   "metadata": {},
   "source": [
    "### 4."
   ]
  },
  {
   "cell_type": "code",
   "execution_count": 7,
   "metadata": {},
   "outputs": [
    {
     "name": "stdout",
     "output_type": "stream",
     "text": [
      "Estonia\n",
      "Finland\n",
      "Sweden\n",
      "Denmark\n",
      "Norway\n",
      "Iceland\n"
     ]
    }
   ],
   "source": [
    "countries = ['Estonia', 'Finland', 'Sweden', 'Denmark', 'Norway', 'Iceland']\n",
    "\n",
    "\n",
    "for country in countries:\n",
    "    print(country)\n"
   ]
  },
  {
   "cell_type": "markdown",
   "metadata": {},
   "source": [
    "### 5."
   ]
  },
  {
   "cell_type": "code",
   "execution_count": 8,
   "metadata": {},
   "outputs": [
    {
     "name": "stdout",
     "output_type": "stream",
     "text": [
      "Asabeneh\n",
      "Lidiya\n",
      "Ermias\n",
      "Abraham\n"
     ]
    }
   ],
   "source": [
    "names = ['Asabeneh', 'Lidiya', 'Ermias', 'Abraham']\n",
    "\n",
    "for name in names:\n",
    "    print(name)"
   ]
  },
  {
   "cell_type": "markdown",
   "metadata": {},
   "source": [
    "### 6."
   ]
  },
  {
   "cell_type": "code",
   "execution_count": 9,
   "metadata": {},
   "outputs": [
    {
     "name": "stdout",
     "output_type": "stream",
     "text": [
      "1\n",
      "2\n",
      "3\n",
      "4\n",
      "5\n",
      "6\n",
      "7\n",
      "8\n",
      "9\n",
      "10\n"
     ]
    }
   ],
   "source": [
    "numbers = [1, 2, 3, 4, 5, 6, 7, 8, 9, 10]\n",
    "\n",
    "for numb in numbers:\n",
    "    print(numb)"
   ]
  },
  {
   "cell_type": "markdown",
   "metadata": {},
   "source": [
    "\n",
    "### Exercises: Level 2"
   ]
  },
  {
   "cell_type": "markdown",
   "metadata": {},
   "source": [
    "### 1."
   ]
  },
  {
   "cell_type": "code",
   "execution_count": 10,
   "metadata": {},
   "outputs": [
    {
     "name": "stdout",
     "output_type": "stream",
     "text": [
      "['ESTONIA', 'FINLAND', 'SWEDEN', 'DENMARK', 'NORWAY', 'ICELAND']\n"
     ]
    }
   ],
   "source": [
    "countries = ['Estonia', 'Finland', 'Sweden', 'Denmark', 'Norway', 'Iceland']\n",
    "\n",
    "# Using map to create a new list with countries in uppercase\n",
    "uppercase_countries = list(map(str.upper, countries))\n",
    "\n",
    "# Print the new list\n",
    "print(uppercase_countries)\n"
   ]
  },
  {
   "cell_type": "markdown",
   "metadata": {},
   "source": [
    "### 2."
   ]
  },
  {
   "cell_type": "code",
   "execution_count": 11,
   "metadata": {},
   "outputs": [
    {
     "name": "stdout",
     "output_type": "stream",
     "text": [
      "[1, 4, 9, 16, 25, 36, 49, 64, 81, 100]\n"
     ]
    }
   ],
   "source": [
    "numbers = [1, 2, 3, 4, 5, 6, 7, 8, 9, 10]\n",
    "\n",
    "# Using map to create a new list with squared numbers\n",
    "squared_numbers = list(map(lambda x: x**2, numbers))\n",
    "\n",
    "# Print the new list\n",
    "print(squared_numbers)\n"
   ]
  },
  {
   "cell_type": "markdown",
   "metadata": {},
   "source": [
    "### 3."
   ]
  },
  {
   "cell_type": "code",
   "execution_count": 13,
   "metadata": {},
   "outputs": [
    {
     "name": "stdout",
     "output_type": "stream",
     "text": [
      "['ASABENEH', 'LIDIYA', 'ERMIAS', 'ABRAHAM']\n"
     ]
    }
   ],
   "source": [
    "names = ['Asabeneh', 'Lidiya', 'Ermias', 'Abraham']\n",
    "\n",
    "uppercase_names = list(map(str.upper, names))\n",
    "\n",
    "print(uppercase_names)"
   ]
  },
  {
   "cell_type": "markdown",
   "metadata": {},
   "source": [
    "### 4."
   ]
  },
  {
   "cell_type": "code",
   "execution_count": 14,
   "metadata": {},
   "outputs": [
    {
     "name": "stdout",
     "output_type": "stream",
     "text": [
      "['Estonia', 'Sweden', 'Denmark', 'Norway']\n"
     ]
    }
   ],
   "source": [
    "countries = ['Estonia', 'Finland', 'Sweden', 'Denmark', 'Norway', 'Iceland']\n",
    "\n",
    "# Using filter to filter out countries containing 'land'\n",
    "filtered_countries = list(filter(lambda country: 'land' not in country.lower(), countries))\n",
    "\n",
    "# Print the filtered list\n",
    "print(filtered_countries)\n"
   ]
  },
  {
   "cell_type": "markdown",
   "metadata": {},
   "source": [
    "### 5."
   ]
  },
  {
   "cell_type": "code",
   "execution_count": 15,
   "metadata": {},
   "outputs": [
    {
     "name": "stdout",
     "output_type": "stream",
     "text": [
      "['Estonia', 'Finland', 'Denmark', 'Iceland']\n"
     ]
    }
   ],
   "source": [
    "countries = ['Estonia', 'Finland', 'Sweden', 'Denmark', 'Norway', 'Iceland']\n",
    "\n",
    "# Using filter to filter out countries with exactly six characters\n",
    "filtered_countries = list(filter(lambda country: len(country) != 6, countries))\n",
    "\n",
    "# Print the filtered list\n",
    "print(filtered_countries)\n"
   ]
  },
  {
   "cell_type": "markdown",
   "metadata": {},
   "source": [
    "### 6."
   ]
  },
  {
   "cell_type": "code",
   "execution_count": 17,
   "metadata": {},
   "outputs": [
    {
     "name": "stdout",
     "output_type": "stream",
     "text": [
      "[]\n"
     ]
    }
   ],
   "source": [
    "countries = ['Estonia', 'Finland', 'Sweden', 'Denmark', 'Norway', 'Iceland']\n",
    "\n",
    "# Using filter to filter out countries with six letters or more\n",
    "filtered_countries = list(filter(lambda country: len(country) < 6, countries))\n",
    "\n",
    "# Print the filtered list\n",
    "print(filtered_countries)\n"
   ]
  },
  {
   "cell_type": "markdown",
   "metadata": {},
   "source": [
    "### 7."
   ]
  },
  {
   "cell_type": "code",
   "execution_count": 20,
   "metadata": {},
   "outputs": [
    {
     "name": "stdout",
     "output_type": "stream",
     "text": [
      "['Finland', 'Sweden', 'Denmark', 'Norway', 'Iceland']\n"
     ]
    }
   ],
   "source": [
    "countries = ['Estonia', 'Finland', 'Sweden', 'Denmark', 'Norway', 'Iceland']\n",
    "\n",
    "# Using filter to filter out countries starting with 'E'\n",
    "filtered_countries = list(filter(lambda country: not country.startswith('E'), countries))\n",
    "\n",
    "# Print the filtered list\n",
    "print(filtered_countries)\n"
   ]
  },
  {
   "cell_type": "markdown",
   "metadata": {},
   "source": [
    "### 8."
   ]
  },
  {
   "cell_type": "code",
   "execution_count": 21,
   "metadata": {},
   "outputs": [
    {
     "name": "stdout",
     "output_type": "stream",
     "text": [
      "110\n"
     ]
    }
   ],
   "source": [
    "from functools import reduce\n",
    "\n",
    "numbers = [1, 2, 3, 4, 5, 6, 7, 8, 9, 10]\n",
    "\n",
    "# Chain map, filter, and reduce\n",
    "result = reduce(lambda acc, x: acc + x, filter(lambda x: x % 2 == 0, map(lambda x: x * 2, numbers)))\n",
    "\n",
    "print(result)\n"
   ]
  },
  {
   "cell_type": "markdown",
   "metadata": {},
   "source": [
    "### 9."
   ]
  },
  {
   "cell_type": "code",
   "execution_count": 22,
   "metadata": {},
   "outputs": [
    {
     "name": "stdout",
     "output_type": "stream",
     "text": [
      "['apple', 'banana', 'orange', 'grape']\n"
     ]
    }
   ],
   "source": [
    "def get_string_lists(input_list):\n",
    "    return [item for item in input_list if isinstance(item, str)]\n",
    "\n",
    "\n",
    "mixed_list = [1, 'apple', 3.14, 'banana', 'orange', 42, 'grape']\n",
    "result = get_string_lists(mixed_list)\n",
    "\n",
    "print(result)\n"
   ]
  },
  {
   "cell_type": "markdown",
   "metadata": {},
   "source": [
    "### 10"
   ]
  },
  {
   "cell_type": "code",
   "execution_count": 23,
   "metadata": {},
   "outputs": [
    {
     "name": "stdout",
     "output_type": "stream",
     "text": [
      "55\n"
     ]
    }
   ],
   "source": [
    "from functools import reduce\n",
    "\n",
    "numbers = [1, 2, 3, 4, 5, 6, 7, 8, 9, 10]\n",
    "\n",
    "# Using reduce to sum all the numbers\n",
    "sum_of_numbers = reduce(lambda x, y: x + y, numbers)\n",
    "\n",
    "print(sum_of_numbers)\n"
   ]
  },
  {
   "cell_type": "markdown",
   "metadata": {},
   "source": [
    "### 11."
   ]
  },
  {
   "cell_type": "code",
   "execution_count": 24,
   "metadata": {},
   "outputs": [
    {
     "name": "stdout",
     "output_type": "stream",
     "text": [
      "Estonia, Finland, Sweden, Denmark, Norway, Iceland are north European countries.\n"
     ]
    }
   ],
   "source": [
    "from functools import reduce\n",
    "\n",
    "countries = ['Estonia', 'Finland', 'Sweden', 'Denmark', 'Norway', 'Iceland']\n",
    "\n",
    "# Using reduce to concatenate countries and form the sentence\n",
    "sentence = reduce(lambda x, y: f\"{x}, {y}\", countries)\n",
    "\n",
    "# Adding the final part of the sentence\n",
    "sentence += ' are north European countries.'\n",
    "\n",
    "print(sentence)\n"
   ]
  },
  {
   "cell_type": "markdown",
   "metadata": {},
   "source": [
    "### 12"
   ]
  },
  {
   "cell_type": "code",
   "execution_count": 29,
   "metadata": {},
   "outputs": [],
   "source": [
    "import sys\n",
    "sys.path.append('../data')\n",
    "from countries import countries\n",
    "def categorize_countries(countries):\n",
    "    categorized_countries = {\n",
    "        'land': [],\n",
    "        'ia': [],\n",
    "        'island': [],\n",
    "        'stan': []\n",
    "    }\n",
    "\n",
    "    for country in countries:\n",
    "        if country.endswith('land'):\n",
    "            categorized_countries['land'].append(country)\n",
    "        elif country.endswith('ia'):\n",
    "            categorized_countries['ia'].append(country)\n",
    "        elif 'island' in country.lower():\n",
    "            categorized_countries['island'].append(country)\n",
    "        elif country.endswith('stan'):\n",
    "            categorized_countries['stan'].append(country)\n",
    "        # Add more pattern matching conditions as needed\n",
    "\n",
    "    return categorized_countries\n",
    "    result = categorize_countries(countries)\n",
    "    print('12. ', result)"
   ]
  },
  {
   "cell_type": "markdown",
   "metadata": {},
   "source": [
    "### 13."
   ]
  },
  {
   "cell_type": "code",
   "execution_count": 30,
   "metadata": {},
   "outputs": [
    {
     "name": "stdout",
     "output_type": "stream",
     "text": [
      "Country counts by starting letter: {'E': 1, 'F': 1, 'S': 1, 'D': 1, 'N': 1, 'I': 1, 'T': 1, 'P': 1, 'H': 1}\n"
     ]
    }
   ],
   "source": [
    "def count_countries_by_starting_letter(country_list):\n",
    "    \n",
    "    starting_letter_counts = {}\n",
    "\n",
    "    for country in country_list:\n",
    "        # Use the first letter of each country name as the key\n",
    "        starting_letter = country[0].upper()\n",
    "\n",
    "        # Increment the count for the corresponding key\n",
    "        starting_letter_counts[starting_letter] = starting_letter_counts.get(starting_letter, 0) + 1\n",
    "\n",
    "    return starting_letter_counts\n",
    "\n",
    "# Example usage:\n",
    "countries = ['Estonia', 'Finland', 'Sweden', 'Denmark', 'Norway', 'Iceland', 'Thailand', 'Pakistan', 'Holland']\n",
    "\n",
    "letter_counts = count_countries_by_starting_letter(countries)\n",
    "print(\"Country counts by starting letter:\", letter_counts)\n"
   ]
  },
  {
   "cell_type": "markdown",
   "metadata": {},
   "source": [
    "### 14."
   ]
  },
  {
   "cell_type": "code",
   "execution_count": 31,
   "metadata": {},
   "outputs": [
    {
     "name": "stdout",
     "output_type": "stream",
     "text": [
      "First ten countries: ['Afghanistan', 'Albania', 'Algeria', 'Andorra', 'Angola', 'Antigua and Barbuda', 'Argentina', 'Armenia', 'Australia', 'Austria']\n"
     ]
    }
   ],
   "source": [
    "import sys\n",
    "sys.path.append('../data')\n",
    "from countries import countries\n",
    "def get_first_ten_countries():\n",
    "    return countries[:10]\n",
    "\n",
    "# Example usage\n",
    "first_ten = get_first_ten_countries()\n",
    "print('14. First 10 countries:', first_ten)"
   ]
  },
  {
   "cell_type": "markdown",
   "metadata": {},
   "source": [
    "### 15."
   ]
  },
  {
   "cell_type": "code",
   "execution_count": 32,
   "metadata": {},
   "outputs": [
    {
     "name": "stdout",
     "output_type": "stream",
     "text": [
      "15. Last 10 countries:  ['Estonia', 'Finland', 'Sweden', 'Denmark', 'Norway', 'Iceland', 'Thailand', 'Pakistan', 'Holland']\n"
     ]
    }
   ],
   "source": [
    "def get_last_ten_countries():\n",
    "    return countries[-10:]\n",
    "\n",
    "# Example usage\n",
    "last_ten = get_last_ten_countries()\n",
    "print('15. Last 10 countries: ', last_ten)"
   ]
  }
 ],
 "metadata": {
  "kernelspec": {
   "display_name": "Python 3",
   "language": "python",
   "name": "python3"
  },
  "language_info": {
   "codemirror_mode": {
    "name": "ipython",
    "version": 3
   },
   "file_extension": ".py",
   "mimetype": "text/x-python",
   "name": "python",
   "nbconvert_exporter": "python",
   "pygments_lexer": "ipython3",
   "version": "3.10.8"
  }
 },
 "nbformat": 4,
 "nbformat_minor": 2
}
