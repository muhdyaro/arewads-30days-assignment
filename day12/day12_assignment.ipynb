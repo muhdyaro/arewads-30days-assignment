{
 "cells": [
  {
   "cell_type": "markdown",
   "metadata": {},
   "source": [
    "# 💻 Exercises: Day 12"
   ]
  },
  {
   "cell_type": "markdown",
   "metadata": {},
   "source": [
    "## Exercises: Level 1"
   ]
  },
  {
   "cell_type": "markdown",
   "metadata": {},
   "source": [
    "### 1."
   ]
  },
  {
   "cell_type": "code",
   "execution_count": 21,
   "metadata": {},
   "outputs": [
    {
     "name": "stdout",
     "output_type": "stream",
     "text": [
      "y89hup\n"
     ]
    }
   ],
   "source": [
    "import random\n",
    "import string\n",
    "\n",
    "def random_user_id():\n",
    "    return ''.join(random.choice(string.digits + string.ascii_lowercase) for _ in range(6))\n",
    "\n",
    "\n",
    "print(random_user_id())  \n",
    "\n",
    "\n",
    "    \n",
    "  "
   ]
  },
  {
   "cell_type": "markdown",
   "metadata": {},
   "source": [
    "### 2."
   ]
  },
  {
   "cell_type": "code",
   "execution_count": 2,
   "metadata": {},
   "outputs": [
    {
     "name": "stdout",
     "output_type": "stream",
     "text": [
      "whsedE7fdsk\n",
      "YLCDutlTPOF\n",
      "iDVawPSz4gf\n",
      "f4QQ1BdVKcw\n",
      "CVsZaeHydbo\n",
      "XTtraHJOnBb\n",
      "SSvP8FVb65R\n",
      "xcQ6p5jmQ7y\n",
      "['exIvLVbYzd3', '7zjgyEZYoWu', '2qJifV1ys4P', 'y7HbTVzUXsU']\n"
     ]
    }
   ],
   "source": [
    "import random\n",
    "import string\n",
    "\n",
    "def user_id_gen_by_user():\n",
    "   \n",
    "    try:\n",
    "       char_count = 11\n",
    "       id_count = 4\n",
    "    except ValueError:\n",
    "        print(\"Invalid input. Please enter valid integers.\")\n",
    "        return []\n",
    "\n",
    "    user_ids = []\n",
    "    for _ in range(id_count):\n",
    "        user_id = ''.join(random.choice(string.ascii_letters + string.digits) for _ in range(char_count))\n",
    "        user_ids.append(user_id)\n",
    "\n",
    "    return user_ids\n",
    "\n",
    "result1 = user_id_gen_by_user()\n",
    "print(\"\\n\".join(result1)) \n",
    "\n",
    "result2 = user_id_gen_by_user()\n",
    "print(\"\\n\".join(result2))  \n",
    "print(user_id_gen_by_user())\n"
   ]
  },
  {
   "cell_type": "markdown",
   "metadata": {},
   "source": [
    "## 3."
   ]
  },
  {
   "cell_type": "code",
   "execution_count": 4,
   "metadata": {},
   "outputs": [
    {
     "ename": "IndentationError",
     "evalue": "unexpected indent (3876022128.py, line 7)",
     "output_type": "error",
     "traceback": [
      "\u001b[1;36m  Cell \u001b[1;32mIn[4], line 7\u001b[1;36m\u001b[0m\n\u001b[1;33m    print(rgb_color_gem())\u001b[0m\n\u001b[1;37m    ^\u001b[0m\n\u001b[1;31mIndentationError\u001b[0m\u001b[1;31m:\u001b[0m unexpected indent\n"
     ]
    }
   ],
   "source": [
    "\n",
    "\n",
    "def rgb_color_gem():\n",
    "    r=random.radiant(0,255)\n",
    "    g=random.radiant(0,255)\n",
    "    b=random.radiant(0,255)\n",
    "return r, g, b,\n",
    "\n",
    " print(rgb_color_gem())\n"
   ]
  },
  {
   "cell_type": "markdown",
   "metadata": {},
   "source": [
    "## Exercises: Level 2"
   ]
  },
  {
   "cell_type": "markdown",
   "metadata": {},
   "source": [
    "### 1."
   ]
  },
  {
   "cell_type": "code",
   "execution_count": 1,
   "metadata": {},
   "outputs": [
    {
     "name": "stdout",
     "output_type": "stream",
     "text": [
      "['#5c7133', '#fe8884', '#912a75', '#e87356', '#30e850']\n"
     ]
    }
   ],
   "source": [
    "import random\n",
    "\n",
    "def list_of_hexa_colors(num_colors):\n",
    "    colors = []\n",
    "    for _ in range(num_colors):\n",
    "        color = \"#{:06x}\".format(random.randint(0, 0xFFFFFF))\n",
    "        colors.append(color)\n",
    "    return colors\n",
    "\n",
    "# Example usage:\n",
    "num_colors = 5\n",
    "hex_colors = list_of_hexa_colors(num_colors)\n",
    "print(hex_colors)\n"
   ]
  },
  {
   "cell_type": "markdown",
   "metadata": {},
   "source": [
    "### 1."
   ]
  },
  {
   "cell_type": "code",
   "execution_count": 2,
   "metadata": {},
   "outputs": [
    {
     "name": "stdout",
     "output_type": "stream",
     "text": [
      "[(80, 241, 197), (99, 183, 136), (36, 118, 219), (61, 80, 5), (17, 222, 119)]\n"
     ]
    }
   ],
   "source": [
    "import random\n",
    "\n",
    "def list_of_rgb_colors(num_colors):\n",
    "    colors = []\n",
    "    for _ in range(num_colors):\n",
    "        color = (random.randint(0, 255), random.randint(0, 255), random.randint(0, 255))\n",
    "        colors.append(color)\n",
    "    return colors\n",
    "\n",
    "# Example usage:\n",
    "num_colors = 5\n",
    "rgb_colors = list_of_rgb_colors(num_colors)\n",
    "print(rgb_colors)\n"
   ]
  },
  {
   "cell_type": "markdown",
   "metadata": {},
   "source": [
    "### 1."
   ]
  },
  {
   "cell_type": "code",
   "execution_count": 5,
   "metadata": {},
   "outputs": [
    {
     "name": "stdout",
     "output_type": "stream",
     "text": [
      "Hexadecimal colors: ['#618df0', '#e9d3bd', '#5a1c5c']\n",
      "Hexadecimal color: ['#cbe0d0']\n",
      "RGB colors: ['rgb(11, 51, 28)', 'rgb(17, 177, 5)', 'rgb(207, 203, 28)']\n",
      "RGB color: ['rgb(82, 34, 55)']\n"
     ]
    }
   ],
   "source": [
    "import random\n",
    "\n",
    "def generate_colors(mode, num_colors):\n",
    "    colors = []\n",
    "\n",
    "    def generate_hex_color():\n",
    "        return \"#{:06x}\".format(random.randint(0, 0xFFFFFF))\n",
    "\n",
    "    def generate_rgb_color():\n",
    "        return f\"rgb({random.randint(0, 255)}, {random.randint(0, 255)}, {random.randint(0, 255)})\"\n",
    "\n",
    "    if mode == 'hexa':\n",
    "        colors = [generate_hex_color() for _ in range(num_colors)]\n",
    "    elif mode == 'rgb':\n",
    "        colors = [generate_rgb_color() for _ in range(num_colors)]\n",
    "    else:\n",
    "        raise ValueError(\"Invalid mode. Supported modes are 'hexa' and 'rgb'.\")\n",
    "\n",
    "    return colors\n",
    "\n",
    "# Example usage:\n",
    "hexa_colors_1 = generate_colors('hexa', 3)\n",
    "hexa_colors_2 = generate_colors('hexa', 1)\n",
    "rgb_colors_1 = generate_colors('rgb', 3)\n",
    "rgb_colors_2 = generate_colors('rgb', 1)\n",
    "\n",
    "print(\"Hexadecimal colors:\", hexa_colors_1)  # ['#a3e12f', '#03ed55', '#eb3d2b']\n",
    "print(\"Hexadecimal color:\", hexa_colors_2)   # ['#b334ef']\n",
    "print(\"RGB colors:\", rgb_colors_1)           # ['rgb(5, 55, 175', 'rgb(50, 105, 100', 'rgb(15, 26, 80']\n",
    "print(\"RGB color:\", rgb_colors_2)             # ['rgb(33,79, 176)']\n"
   ]
  },
  {
   "cell_type": "markdown",
   "metadata": {},
   "source": [
    "## Exercises: Level 3"
   ]
  },
  {
   "cell_type": "markdown",
   "metadata": {},
   "source": [
    "### 1."
   ]
  },
  {
   "cell_type": "code",
   "execution_count": 6,
   "metadata": {},
   "outputs": [
    {
     "name": "stdout",
     "output_type": "stream",
     "text": [
      "Original list: [1, 2, 3, 4, 5]\n",
      "Shuffled list: [2, 1, 5, 3, 4]\n"
     ]
    }
   ],
   "source": [
    "import random\n",
    "\n",
    "def shuffle_list(input_list):\n",
    "    shuffled_list = input_list.copy()\n",
    "    random.shuffle(shuffled_list)\n",
    "    return shuffled_list\n",
    "\n",
    "# Example usage:\n",
    "original_list = [1, 2, 3, 4, 5]\n",
    "shuffled_result = shuffle_list(original_list)\n",
    "\n",
    "print(\"Original list:\", original_list)\n",
    "print(\"Shuffled list:\", shuffled_result)\n"
   ]
  },
  {
   "cell_type": "markdown",
   "metadata": {},
   "source": [
    "### 1."
   ]
  },
  {
   "cell_type": "code",
   "execution_count": 7,
   "metadata": {},
   "outputs": [
    {
     "name": "stdout",
     "output_type": "stream",
     "text": [
      "[9, 4, 2, 5, 1, 7, 3]\n"
     ]
    }
   ],
   "source": [
    "import random\n",
    "\n",
    "def generate_unique_numbers():\n",
    "    return random.sample(range(10), 7)\n",
    "\n",
    "# Example usage:\n",
    "random_numbers = generate_unique_numbers()\n",
    "print(random_numbers)\n"
   ]
  }
 ],
 "metadata": {
  "kernelspec": {
   "display_name": "Python 3",
   "language": "python",
   "name": "python3"
  },
  "language_info": {
   "codemirror_mode": {
    "name": "ipython",
    "version": 3
   },
   "file_extension": ".py",
   "mimetype": "text/x-python",
   "name": "python",
   "nbconvert_exporter": "python",
   "pygments_lexer": "ipython3",
   "version": "3.10.8"
  }
 },
 "nbformat": 4,
 "nbformat_minor": 2
}
