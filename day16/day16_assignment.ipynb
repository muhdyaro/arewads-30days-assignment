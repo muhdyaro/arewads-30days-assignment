{
 "cells": [
  {
   "cell_type": "markdown",
   "metadata": {},
   "source": [
    "## 💻 Exercises: Day 16"
   ]
  },
  {
   "cell_type": "code",
   "execution_count": 3,
   "metadata": {},
   "outputs": [
    {
     "name": "stdout",
     "output_type": "stream",
     "text": [
      "Current Day: 18\n",
      "Current Month: 12\n",
      "Current Year: 2023\n",
      "Current Hour: 10\n",
      "Current Minute: 43\n",
      "Timestamp: 1702892582.119543\n",
      "Formatted Date: 12/18/2023, 10:43:02\n"
     ]
    }
   ],
   "source": [
    "from datetime import datetime\n",
    "\n",
    "# Get current date and time\n",
    "now = datetime.now()\n",
    "\n",
    "# Extract components\n",
    "current_day = now.day\n",
    "current_month = now.month\n",
    "current_year = now.year\n",
    "current_hour = now.hour\n",
    "current_minute = now.minute\n",
    "timestamp = now.timestamp()\n",
    "\n",
    "print(\"Current Day:\", current_day)\n",
    "print(\"Current Month:\", current_month)\n",
    "print(\"Current Year:\", current_year)\n",
    "print(\"Current Hour:\", current_hour)\n",
    "print(\"Current Minute:\", current_minute)\n",
    "print(\"Timestamp:\", timestamp)\n",
    "\n",
    "#Format the current date\n",
    "\n",
    "formatted_date = now.strftime(\"%m/%d/%Y, %H:%M:%S\")\n",
    "print(\"Formatted Date:\", formatted_date)\n",
    "\n",
    "\n",
    "\n"
   ]
  },
  {
   "cell_type": "code",
   "execution_count": 2,
   "metadata": {},
   "outputs": [
    {
     "name": "stdout",
     "output_type": "stream",
     "text": [
      "Time Object: 2019-12-05 00:00:00\n"
     ]
    }
   ],
   "source": [
    "time_string = \"5 December 2019\"\n",
    "time_object = datetime.strptime(time_string, \"%d %B %Y\")\n",
    "print(\"Time Object:\", time_object)\n"
   ]
  },
  {
   "cell_type": "code",
   "execution_count": 4,
   "metadata": {},
   "outputs": [
    {
     "name": "stdout",
     "output_type": "stream",
     "text": [
      "Time difference to New Year: 13 days, 13:16:57.880457\n"
     ]
    }
   ],
   "source": [
    "from datetime import timedelta\n",
    "\n",
    "new_year = datetime(now.year + 1, 1, 1)\n",
    "time_difference_to_new_year = new_year - now\n",
    "\n",
    "print(\"Time difference to New Year:\", time_difference_to_new_year)\n"
   ]
  },
  {
   "cell_type": "code",
   "execution_count": 5,
   "metadata": {},
   "outputs": [
    {
     "name": "stdout",
     "output_type": "stream",
     "text": [
      "Time difference to 1 January 1970: 19709 days, 10:43:02.119543\n"
     ]
    }
   ],
   "source": [
    "epoch_time = datetime(1970, 1, 1)\n",
    "time_difference_to_epoch = now - epoch_time\n",
    "\n",
    "print(\"Time difference to 1 January 1970:\", time_difference_to_epoch)\n"
   ]
  },
  {
   "cell_type": "markdown",
   "metadata": {},
   "source": [
    "Comparing only the dates,\n",
    "Handling timezones\n"
   ]
  }
 ],
 "metadata": {
  "kernelspec": {
   "display_name": "Python 3",
   "language": "python",
   "name": "python3"
  },
  "language_info": {
   "codemirror_mode": {
    "name": "ipython",
    "version": 3
   },
   "file_extension": ".py",
   "mimetype": "text/x-python",
   "name": "python",
   "nbconvert_exporter": "python",
   "pygments_lexer": "ipython3",
   "version": "3.10.8"
  }
 },
 "nbformat": 4,
 "nbformat_minor": 2
}
